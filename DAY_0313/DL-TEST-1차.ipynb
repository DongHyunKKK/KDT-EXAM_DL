{
 "cells": [
  {
   "cell_type": "markdown",
   "metadata": {},
   "source": [
    "### 미니 테스트 <hr>"
   ]
  },
  {
   "cell_type": "code",
   "execution_count": 4,
   "metadata": {},
   "outputs": [],
   "source": [
    "import torch\n",
    "import numpy as np\n",
    "import pandas as pd\n",
    "import random"
   ]
  },
  {
   "cell_type": "markdown",
   "metadata": {},
   "source": [
    "1. 화면상에서 Pytorch에서 데이터를 저장하는 단위는 (Tensor)입니다."
   ]
  },
  {
   "cell_type": "markdown",
   "metadata": {},
   "source": [
    "2. 문제 1에 해당하는 것의 특징을 간략히 설명하세요."
   ]
  },
  {
   "cell_type": "markdown",
   "metadata": {},
   "source": [
    "3. int8, int16, int32, int64, uint8, Long"
   ]
  },
  {
   "cell_type": "markdown",
   "metadata": {},
   "source": [
    "4. Pytorch에 논리형 데이터로 저장 후 속성을 출력하는 코드를 작성하세요."
   ]
  },
  {
   "cell_type": "code",
   "execution_count": null,
   "metadata": {},
   "outputs": [
    {
     "data": {
      "text/plain": [
       "torch.bool"
      ]
     },
     "execution_count": 3,
     "metadata": {},
     "output_type": "execute_result"
    }
   ],
   "source": [
    "data = [10, -5, 1.4, 7, 0, -1, 0]\n",
    "t = torch.tensor(data, dtype = bool)\n",
    "print(t.dtype)"
   ]
  },
  {
   "cell_type": "markdown",
   "metadata": {},
   "source": [
    "5. 10개의 0으로 구성된 데이터를 2차원으로 저장하는 코드를 작성하세요."
   ]
  },
  {
   "cell_type": "code",
   "execution_count": 10,
   "metadata": {},
   "outputs": [
    {
     "name": "stdout",
     "output_type": "stream",
     "text": [
      "tensor([[0., 0., 0., 0., 0.],\n",
      "        [0., 0., 0., 0., 0.]])\n"
     ]
    }
   ],
   "source": [
    "t = torch.zeros((2, 5), dtype = torch.float32)\n",
    "print(t)"
   ]
  },
  {
   "cell_type": "markdown",
   "metadata": {},
   "source": [
    "6. 5개의 1로 구성된 데이터가 2차원 텐서의 대각선에 저장되는 코드를 작성하세요. "
   ]
  },
  {
   "cell_type": "code",
   "execution_count": null,
   "metadata": {},
   "outputs": [
    {
     "name": "stdout",
     "output_type": "stream",
     "text": [
      "tensor([[1., 0., 0., 0., 0.],\n",
      "        [0., 1., 0., 0., 0.],\n",
      "        [0., 0., 1., 0., 0.],\n",
      "        [0., 0., 0., 1., 0.],\n",
      "        [0., 0., 0., 0., 1.]])\n"
     ]
    }
   ],
   "source": [
    "t = torch.eye(5)\n",
    "print(t)"
   ]
  },
  {
   "cell_type": "markdown",
   "metadata": {},
   "source": [
    "7. 문제 5에서 저장된 형태가 동일하지만 값이 3이 저장된 코드를 작성하세요."
   ]
  },
  {
   "cell_type": "code",
   "execution_count": null,
   "metadata": {},
   "outputs": [
    {
     "name": "stdout",
     "output_type": "stream",
     "text": [
      "tensor([[3., 3., 3., 3., 3.],\n",
      "        [3., 3., 3., 3., 3.]])\n"
     ]
    }
   ],
   "source": [
    "t = torch.rand(2, 5)\n",
    "t = 3*torch.ones_like(t)\n",
    "print(t)"
   ]
  },
  {
   "cell_type": "markdown",
   "metadata": {},
   "source": [
    "8. ndarray 데이터를 Pytorch에 저장하는 코드를 작성하세요.\n",
    "- 데이터  :1 ~ 100 범위에서 7의 배수\n",
    "- 데이터 타입 : float32\n",
    "- 생성 방식 : 공유"
   ]
  },
  {
   "cell_type": "code",
   "execution_count": null,
   "metadata": {},
   "outputs": [
    {
     "name": "stdout",
     "output_type": "stream",
     "text": [
      "tensor([ 1.,  8., 15., 22., 29., 36., 43., 50., 57., 64., 71., 78., 85., 92.,\n",
      "        99.])\n",
      "tensor([ 1.,  8., 15., 22., 29., 36., 43., 50., 57., 64., 71., 78., 85., 92.,\n",
      "        99.])\n",
      "torch.float32\n"
     ]
    }
   ],
   "source": [
    "data = np.arange(1, 101, 7)\n",
    "\n",
    "t = torch.from_numpy(data)\n",
    "t = t.type(torch.float32)\n",
    "print(t)\n",
    "\n",
    "t = torch.as_tensor(data)\n",
    "t = t.type(torch.float32)\n",
    "print(t)"
   ]
  },
  {
   "cell_type": "markdown",
   "metadata": {},
   "source": [
    "9. 아래 조건에 맞는 데이터를 Pytorch에 저장하는 코드를 작성하세요.\n",
    "- 이미지 파일 : flower.jpg 파일\n",
    "- 이미지 크기 : 120 x 80\n",
    "- 데이터 타입 : int8\n",
    "- 데이터 : 임의의 값"
   ]
  },
  {
   "cell_type": "code",
   "execution_count": null,
   "metadata": {},
   "outputs": [],
   "source": []
  },
  {
   "cell_type": "markdown",
   "metadata": {},
   "source": [
    "10. 아래 조건에 맞도록 코드를 작성하세요.\n",
    "- 데이터 : 임의의 정수 10개"
   ]
  },
  {
   "cell_type": "code",
   "execution_count": null,
   "metadata": {},
   "outputs": [
    {
     "name": "stdout",
     "output_type": "stream",
     "text": [
      "tensor([10,  1,  5,  8, 10,  5,  4,  8,  6,  4])\n"
     ]
    }
   ],
   "source": [
    "# (1) 1D으로 저장\n",
    "data = []\n",
    "for i in range(10):\n",
    "    data.append(random.randint(1, 10))\n",
    "t = torch.tensor(data)\n",
    "print(t)"
   ]
  },
  {
   "cell_type": "code",
   "execution_count": null,
   "metadata": {},
   "outputs": [
    {
     "name": "stdout",
     "output_type": "stream",
     "text": [
      "tensor([[[10,  1,  5,  8, 10,  5,  4,  8,  6,  4]]])\n"
     ]
    }
   ],
   "source": [
    "# (2) (1)에서 저장된 데이터를 요소 수 변경 없이 3D로 변환\n",
    "\n",
    "t = t.unsqueeze(dim = 0)\n",
    "t = t.unsqueeze(dim = 0)\n",
    "print(t)"
   ]
  },
  {
   "cell_type": "code",
   "execution_count": null,
   "metadata": {},
   "outputs": [
    {
     "name": "stdout",
     "output_type": "stream",
     "text": [
      "tensor([[[10]],\n",
      "\n",
      "        [[ 1]],\n",
      "\n",
      "        [[ 5]],\n",
      "\n",
      "        [[ 8]],\n",
      "\n",
      "        [[10]],\n",
      "\n",
      "        [[ 5]],\n",
      "\n",
      "        [[ 4]],\n",
      "\n",
      "        [[ 8]],\n",
      "\n",
      "        [[ 6]],\n",
      "\n",
      "        [[ 4]]])\n"
     ]
    }
   ],
   "source": [
    "# (3) (2)에서 저장된 데이터의 차원 중 2개를 변경한 3D로 변환\n",
    "tt = t.transpose(0, 2)\n",
    "print(tt)"
   ]
  },
  {
   "cell_type": "code",
   "execution_count": null,
   "metadata": {},
   "outputs": [
    {
     "name": "stdout",
     "output_type": "stream",
     "text": [
      "tensor([[[10]],\n",
      "\n",
      "        [[ 1]],\n",
      "\n",
      "        [[ 5]],\n",
      "\n",
      "        [[ 8]],\n",
      "\n",
      "        [[10]],\n",
      "\n",
      "        [[ 5]],\n",
      "\n",
      "        [[ 4]],\n",
      "\n",
      "        [[ 8]],\n",
      "\n",
      "        [[ 6]],\n",
      "\n",
      "        [[ 4]]])\n"
     ]
    }
   ],
   "source": [
    "# (4) (2)에서 저장된 데이터의 3개 차원 모두 변경한 3D로 변환\n",
    "t = t.permute(2, 1, 0)\n",
    "print(t)"
   ]
  },
  {
   "cell_type": "markdown",
   "metadata": {},
   "source": [
    "11. 아래 조건에 맞도록 코드를 작성하세요.\n",
    "- 데이터\n",
    "    - 국어 80, 70, 80\n",
    "    - 영어 70, 100, 80\n",
    "    - 수학 99, 88, 77"
   ]
  },
  {
   "cell_type": "code",
   "execution_count": null,
   "metadata": {},
   "outputs": [
    {
     "name": "stdout",
     "output_type": "stream",
     "text": [
      "   국어   영어  수학\n",
      "0  90   70  99\n",
      "1  70  100  88\n",
      "2  80   80  77\n"
     ]
    }
   ],
   "source": [
    "# (1) 위에 데이터를 저장\n",
    "data = pd.DataFrame({'국어' : [90, 70, 80], '영어' : [70, 100, 80], '수학' : [99, 88, 77]})\n",
    "print(data)"
   ]
  },
  {
   "cell_type": "code",
   "execution_count": null,
   "metadata": {},
   "outputs": [
    {
     "name": "stdout",
     "output_type": "stream",
     "text": [
      "국어    240\n",
      "영어    250\n",
      "수학    264\n",
      "dtype: int64\n",
      "국어    80.000000\n",
      "영어    83.333333\n",
      "수학    88.000000\n",
      "dtype: float64\n",
      "국어     90\n",
      "영어    100\n",
      "수학     99\n",
      "dtype: int64\n"
     ]
    }
   ],
   "source": [
    "# (2) 과목별 합계, 평균, 최고점수 출력\n",
    "print(data.sum())\n",
    "print(data.mean())\n",
    "print(data.max())"
   ]
  },
  {
   "cell_type": "code",
   "execution_count": null,
   "metadata": {},
   "outputs": [
    {
     "name": "stdout",
     "output_type": "stream",
     "text": [
      "0    259\n",
      "1    258\n",
      "2    237\n",
      "dtype: int64\n",
      "0    86.333333\n",
      "1    86.000000\n",
      "2    79.000000\n",
      "dtype: float64\n",
      "0     99\n",
      "1    100\n",
      "2     80\n",
      "dtype: int64\n"
     ]
    }
   ],
   "source": [
    "# (3) 한 사람의 국어, 영어, 수학 점수 합계, 평균, 최고점수 출력\n",
    "print(data.sum(axis = 1))\n",
    "print(data.mean(axis = 1))\n",
    "print(data.max(axis = 1))"
   ]
  },
  {
   "cell_type": "markdown",
   "metadata": {},
   "source": [
    "12. 아래 조건에 맞도록 코드를 작성하세요.\n",
    "- 데이터1\n",
    "    - 국어 90, 70, 80\n",
    "    - 영어 70, 100, 80\n",
    "    - 수학 99, 88, 77\n",
    "- 데이터2\n",
    "    - 0.5, 0.2, 0.7"
   ]
  },
  {
   "cell_type": "code",
   "execution_count": 6,
   "metadata": {},
   "outputs": [
    {
     "data": {
      "text/plain": [
       "array([0.5, 0.2, 0.7])"
      ]
     },
     "execution_count": 6,
     "metadata": {},
     "output_type": "execute_result"
    }
   ],
   "source": [
    "# (1) 위에 데이터를 저장\n",
    "data1 = pd.DataFrame({'국어' : [90, 70, 80], '영어' : [70, 100, 80], '수학' : [99, 88, 77]})\n",
    "data2 = np.array([0.5, 0.2, 0.7])\n",
    "data2"
   ]
  },
  {
   "cell_type": "code",
   "execution_count": 8,
   "metadata": {},
   "outputs": [
    {
     "name": "stdout",
     "output_type": "stream",
     "text": [
      "tensor([[ 90.5000,  70.2000,  99.7000],\n",
      "        [ 70.5000, 100.2000,  88.7000],\n",
      "        [ 80.5000,  80.2000,  77.7000]], dtype=torch.float64) tensor([128.3000, 116.6000, 109.9000], dtype=torch.float64)\n"
     ]
    }
   ],
   "source": [
    "# (2) 데이터1과 데이터2의 사칙연산 결과\n",
    "data1 = np.array(data1)\n",
    "t1 = torch.tensor(data1, dtype = torch.float64)\n",
    "t2 = torch.tensor(data2)\n",
    "add = t1.add(t2)\n",
    "matmul = t1.matmul(t2)\n",
    "print(add, matmul)\n"
   ]
  }
 ],
 "metadata": {
  "kernelspec": {
   "display_name": "Torch_PY38",
   "language": "python",
   "name": "python3"
  },
  "language_info": {
   "codemirror_mode": {
    "name": "ipython",
    "version": 3
   },
   "file_extension": ".py",
   "mimetype": "text/x-python",
   "name": "python",
   "nbconvert_exporter": "python",
   "pygments_lexer": "ipython3",
   "version": "3.8.18"
  }
 },
 "nbformat": 4,
 "nbformat_minor": 2
}

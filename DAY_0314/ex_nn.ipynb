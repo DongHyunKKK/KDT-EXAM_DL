{
 "cells": [
  {
   "cell_type": "markdown",
   "metadata": {},
   "source": [
    "### 인공신경망 모델 클래스 만들기 <hr>\n",
    "- 부모 클래스 : nn.Module 상속 받음\n",
    "- 필수 오버라이딩 메서드 : __init__(), forward()"
   ]
  },
  {
   "cell_type": "markdown",
   "metadata": {},
   "source": [
    "[1] 모듈로딩 <hr>"
   ]
  },
  {
   "cell_type": "code",
   "execution_count": 1,
   "metadata": {},
   "outputs": [],
   "source": [
    "import torch\n",
    "import torch.nn as nn"
   ]
  },
  {
   "cell_type": "code",
   "execution_count": 11,
   "metadata": {},
   "outputs": [],
   "source": [
    "# 로지스틱회귀 모델 클래스 생성\n",
    "# - Linear + Sigmoid\n",
    "\n",
    "class LogicsticLinear(nn.Module):\n",
    "    \n",
    "    # 모델 구조 설정\n",
    "    def __init__(self, in_, out_):\n",
    "        super().__init__()\n",
    "        self.layer1 = nn.Linear(in_, 10)\n",
    "        self.sigmoid1 = nn.Sigmoid()\n",
    "        self.layer2 = nn.Linear(10, out_)\n",
    "        self.sigmoid2 = nn.Sigmoid()\n",
    "    \n",
    "    # 순방향 학습 진행 콜백함수\n",
    "    def forward(self, x):\n",
    "        y = self.layer1(x)\n",
    "        z = self.sigmoid1(y)\n",
    "        y = self.layer2(z)\n",
    "        z = self.sigmoid2(y)\n",
    "        return z"
   ]
  },
  {
   "cell_type": "code",
   "execution_count": 14,
   "metadata": {},
   "outputs": [
    {
     "name": "stdout",
     "output_type": "stream",
     "text": [
      "모델 구조 확인 ====\n",
      " LogicsticLinear(\n",
      "  (layer1): Linear(in_features=784, out_features=10, bias=True)\n",
      "  (sigmoid1): Sigmoid()\n",
      "  (layer2): Linear(in_features=10, out_features=10, bias=True)\n",
      "  (sigmoid2): Sigmoid()\n",
      ")\n"
     ]
    }
   ],
   "source": [
    "# 모델 인스턴스 생성\n",
    "ll = LogicsticLinear(784, 10)\n",
    "\n",
    "print(f'모델 구조 확인 ====\\n {ll}')"
   ]
  },
  {
   "cell_type": "code",
   "execution_count": 15,
   "metadata": {},
   "outputs": [
    {
     "name": "stdout",
     "output_type": "stream",
     "text": [
      "모델구성 w, b ====\n",
      "Parameter containing:\n",
      "tensor([[-0.0021,  0.0098,  0.0021,  ..., -0.0219,  0.0232, -0.0291],\n",
      "        [ 0.0306, -0.0032, -0.0153,  ..., -0.0180,  0.0136, -0.0135],\n",
      "        [ 0.0197, -0.0291,  0.0226,  ..., -0.0008, -0.0272, -0.0237],\n",
      "        ...,\n",
      "        [-0.0116, -0.0122, -0.0273,  ...,  0.0168, -0.0102, -0.0105],\n",
      "        [-0.0353,  0.0224,  0.0086,  ...,  0.0206,  0.0069,  0.0276],\n",
      "        [-0.0124, -0.0263, -0.0262,  ...,  0.0298,  0.0017, -0.0145]],\n",
      "       requires_grad=True)\n",
      "Parameter containing:\n",
      "tensor([-0.0210, -0.0098, -0.0051,  0.0086,  0.0121, -0.0015,  0.0166, -0.0185,\n",
      "        -0.0176,  0.0221], requires_grad=True)\n",
      "Parameter containing:\n",
      "tensor([[-0.2675,  0.0507,  0.0864, -0.1678, -0.0198,  0.0354, -0.0487, -0.1522,\n",
      "         -0.2278, -0.1811],\n",
      "        [ 0.2178,  0.1710, -0.2421,  0.1686,  0.0315, -0.2726,  0.1169,  0.0988,\n",
      "          0.0312,  0.1813],\n",
      "        [-0.1087, -0.2663,  0.3039,  0.1347, -0.0455,  0.1210,  0.2383,  0.0505,\n",
      "          0.2887,  0.0295],\n",
      "        [-0.2190, -0.0664,  0.2793, -0.0365, -0.1508, -0.2877, -0.2090,  0.2671,\n",
      "          0.1823,  0.3032],\n",
      "        [ 0.2493, -0.0986,  0.0006,  0.1589,  0.1699, -0.1155, -0.1926, -0.0103,\n",
      "          0.2821, -0.2859],\n",
      "        [ 0.1562, -0.1055,  0.0473,  0.0242, -0.3115, -0.1885,  0.1630,  0.0714,\n",
      "         -0.2780, -0.2195],\n",
      "        [ 0.0759,  0.1626,  0.0139,  0.2228,  0.0722, -0.0704,  0.3112, -0.1585,\n",
      "          0.0317, -0.2793],\n",
      "        [-0.1959, -0.0377, -0.1710,  0.2809,  0.1157,  0.1267, -0.3105, -0.0897,\n",
      "         -0.1529,  0.2456],\n",
      "        [-0.0460, -0.1704,  0.0540, -0.0540,  0.3030,  0.1988, -0.1487, -0.0102,\n",
      "         -0.2459,  0.3013],\n",
      "        [-0.2953, -0.1319, -0.0542, -0.1734, -0.0983, -0.1828,  0.1832, -0.1518,\n",
      "         -0.2307, -0.0300]], requires_grad=True)\n",
      "Parameter containing:\n",
      "tensor([-0.1761, -0.0396, -0.1630, -0.0532, -0.2544,  0.1446, -0.1025,  0.1954,\n",
      "        -0.1576, -0.0003], requires_grad=True)\n"
     ]
    }
   ],
   "source": [
    "print(f'모델구성 w, b ====')\n",
    "for param in ll.parameters(): print(param)"
   ]
  },
  {
   "cell_type": "code",
   "execution_count": 16,
   "metadata": {},
   "outputs": [
    {
     "data": {
      "text/plain": [
       "<generator object Module.parameters at 0x0000019653494B30>"
      ]
     },
     "execution_count": 16,
     "metadata": {},
     "output_type": "execute_result"
    }
   ],
   "source": [
    "ll.parameters()"
   ]
  }
 ],
 "metadata": {
  "kernelspec": {
   "display_name": "Torch_PY38",
   "language": "python",
   "name": "python3"
  },
  "language_info": {
   "codemirror_mode": {
    "name": "ipython",
    "version": 3
   },
   "file_extension": ".py",
   "mimetype": "text/x-python",
   "name": "python",
   "nbconvert_exporter": "python",
   "pygments_lexer": "ipython3",
   "version": "3.8.18"
  }
 },
 "nbformat": 4,
 "nbformat_minor": 2
}

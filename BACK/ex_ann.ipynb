{
 "cells": [
  {
   "cell_type": "markdown",
   "metadata": {},
   "source": [
    "### 인공신경망(ANN) 모델 살펴보기\n",
    "- 구성 : 입력층 + 은닉층 + 출력층\n",
    "    * 입력층 : 입력값 <--- 입력 피처수, 출력값 <--- 층의 퍼셉트론 수\n",
    "    * 출력층 : 입력값 <--- 이전층의 결과수, 출력값 <--- 입력 타겟 수 (이진분류 => 1개, 다중분류 = 클래스 수, 회귀 => 1개)"
   ]
  },
  {
   "cell_type": "code",
   "execution_count": 64,
   "metadata": {},
   "outputs": [],
   "source": [
    "### ===> 모듈 로딩\n",
    "import torch\n",
    "import torch.nn as nn\n",
    "import torch.nn.functional as F\n",
    "import torch.optim as optim"
   ]
  },
  {
   "cell_type": "code",
   "execution_count": 53,
   "metadata": {},
   "outputs": [
    {
     "data": {
      "text/plain": [
       "<torch._C.Generator at 0x1821521e8b0>"
      ]
     },
     "execution_count": 53,
     "metadata": {},
     "output_type": "execute_result"
    }
   ],
   "source": [
    "torch.manual_seed(23)"
   ]
  },
  {
   "cell_type": "code",
   "execution_count": 54,
   "metadata": {},
   "outputs": [
    {
     "name": "stdout",
     "output_type": "stream",
     "text": [
      "[featureTS] torch.Size([4, 2]), 2D\n",
      "[targetTS] torch.Size([4, 1]), 2D\n"
     ]
    }
   ],
   "source": [
    "### ===> 데이터 생성\n",
    "### ===> 피처 : 점수, 공부시간\n",
    "### ===> 타겟 : 합격, 불합격\n",
    "featureTS = torch.FloatTensor([[40, 4], [60, 5], [80, 6], [100, 8]])\n",
    "targetTS = torch.FloatTensor([[0], [1], [1], [1]])\n",
    "\n",
    "print(f'[featureTS] {featureTS.shape}, {featureTS.ndim}D')\n",
    "print(f'[targetTS] {targetTS.shape}, {targetTS.ndim}D')"
   ]
  },
  {
   "cell_type": "code",
   "execution_count": 55,
   "metadata": {},
   "outputs": [],
   "source": [
    "### ===> ANN 모델\n",
    "class Net(nn.Module):\n",
    "    \n",
    "    # 모델 구조 설정\n",
    "    def __init__(self):\n",
    "        super().__init__()\n",
    "        self.layer1 = nn.Linear(2, 4)  # 입력층\n",
    "        self.sig1 = nn.Sigmoid()\n",
    "\n",
    "        self.layer2 = nn.Linear(4, 4)  # 은닉층\n",
    "        self.sig2 = nn.Sigmoid()\n",
    "        \n",
    "        self.layer3 = nn.Linear(4, 1)  # 출력층\n",
    "        self.sig3 = nn.Sigmoid()\n",
    "    \n",
    "    # 순전파 함수\n",
    "    def forward(self, x):\n",
    "        y1 = self.layer1(x)\n",
    "        y2 = self.sig1(y1)\n",
    "\n",
    "        y3 = self.layer2(y2)\n",
    "        y4 = self.sig2(y3)\n",
    "\n",
    "        y5 = self.layer3(y4)\n",
    "        y6 = self.sig3(y5)\n",
    "\n",
    "        return y6"
   ]
  },
  {
   "cell_type": "code",
   "execution_count": 56,
   "metadata": {},
   "outputs": [
    {
     "data": {
      "text/plain": [
       "Net(\n",
       "  (layer1): Linear(in_features=2, out_features=4, bias=True)\n",
       "  (sig1): Sigmoid()\n",
       "  (layer2): Linear(in_features=4, out_features=4, bias=True)\n",
       "  (sig2): Sigmoid()\n",
       "  (layer3): Linear(in_features=4, out_features=1, bias=True)\n",
       "  (sig3): Sigmoid()\n",
       ")"
      ]
     },
     "execution_count": 56,
     "metadata": {},
     "output_type": "execute_result"
    }
   ],
   "source": [
    "### 모델 인스턴스 생성\n",
    "model1 = Net()\n",
    "\n",
    "model1"
   ]
  },
  {
   "cell_type": "code",
   "execution_count": 57,
   "metadata": {},
   "outputs": [
    {
     "name": "stdout",
     "output_type": "stream",
     "text": [
      "('layer1.weight', Parameter containing:\n",
      "tensor([[-0.1015, -0.2986],\n",
      "        [-0.1097, -0.2022],\n",
      "        [ 0.6473, -0.5516],\n",
      "        [-0.2923,  0.5947]], requires_grad=True))\n",
      "('layer1.bias', Parameter containing:\n",
      "tensor([ 0.1239, -0.5234,  0.2445, -0.5618], requires_grad=True))\n",
      "('layer2.weight', Parameter containing:\n",
      "tensor([[ 0.2876,  0.0540, -0.0347, -0.2689],\n",
      "        [-0.2786, -0.1652, -0.0459, -0.2481],\n",
      "        [ 0.1310, -0.3293, -0.1878, -0.3024],\n",
      "        [ 0.0466, -0.4787,  0.4049,  0.3444]], requires_grad=True))\n",
      "('layer2.bias', Parameter containing:\n",
      "tensor([ 0.4330, -0.2050, -0.0227, -0.0213], requires_grad=True))\n",
      "('layer3.weight', Parameter containing:\n",
      "tensor([[-0.1560,  0.1732,  0.1593, -0.3121]], requires_grad=True))\n",
      "('layer3.bias', Parameter containing:\n",
      "tensor([-0.0454], requires_grad=True))\n"
     ]
    }
   ],
   "source": [
    "for param in model1.named_parameters():\n",
    "    print(param)"
   ]
  },
  {
   "cell_type": "code",
   "execution_count": 58,
   "metadata": {},
   "outputs": [
    {
     "data": {
      "text/plain": [
       "tensor([[0.4558],\n",
       "        [0.4558],\n",
       "        [0.4558],\n",
       "        [0.4558]], grad_fn=<SigmoidBackward0>)"
      ]
     },
     "execution_count": 58,
     "metadata": {},
     "output_type": "execute_result"
    }
   ],
   "source": [
    "### 학습 진행\n",
    "### - 에포크 : 데이터 처음부터 끝까지 한번에 학습\n",
    "### - 배치사이즈 : 데이터를 일정한 크기로 자른 것 (일반적 32)\n",
    "\n",
    "### 1epoch\n",
    "output = model1(featureTS)\n",
    "output"
   ]
  },
  {
   "cell_type": "code",
   "execution_count": 59,
   "metadata": {},
   "outputs": [
    {
     "name": "stdout",
     "output_type": "stream",
     "text": [
      "accuracy => 0.25\n"
     ]
    }
   ],
   "source": [
    "### 손실계산 => 2진분류 ---> 0.5 기준으로 판별\n",
    "correct = sum((output > 0.5) == targetTS)\n",
    "accuracy = correct/targetTS.shape[0]\n",
    "\n",
    "print(f'accuracy => {accuracy.item()}')"
   ]
  },
  {
   "cell_type": "code",
   "execution_count": 60,
   "metadata": {},
   "outputs": [
    {
     "name": "stdout",
     "output_type": "stream",
     "text": [
      "정밀도 : 0.0\n"
     ]
    }
   ],
   "source": [
    "### 정밀도(precision)\n",
    "correct = sum((output > 0.5))\n",
    "if not correct:\n",
    "    print(f'정밀도 : 0.0')"
   ]
  },
  {
   "cell_type": "code",
   "execution_count": 61,
   "metadata": {},
   "outputs": [
    {
     "name": "stdout",
     "output_type": "stream",
     "text": [
      "재현율 : 0.3333333333333333\n"
     ]
    }
   ],
   "source": [
    "### 재현율\n",
    "correct = sum((output > 0.5) == targetTS)\n",
    "print(f'재현율 : {correct.item() / sum((targetTS == 1)).item()}')\n"
   ]
  },
  {
   "cell_type": "markdown",
   "metadata": {},
   "source": [
    "#### 손실함수 즉, 정답과 예측값 사이의 오차\n",
    "- 회귀 : MSE, MAE, RMSE\n",
    "- 분류 : binary_croos_entropy, cross_entropy"
   ]
  },
  {
   "cell_type": "code",
   "execution_count": 62,
   "metadata": {},
   "outputs": [
    {
     "name": "stdout",
     "output_type": "stream",
     "text": [
      "targetTS \n",
      "tensor([[0.],\n",
      "        [1.],\n",
      "        [1.],\n",
      "        [1.]])\n",
      "output \n",
      "tensor([[0.4558],\n",
      "        [0.4558],\n",
      "        [0.4558],\n",
      "        [0.4558]], grad_fn=<SigmoidBackward0>)\n"
     ]
    }
   ],
   "source": [
    "print(f'targetTS \\n{targetTS}')\n",
    "print(f'output \\n{output}')"
   ]
  },
  {
   "cell_type": "code",
   "execution_count": 63,
   "metadata": {},
   "outputs": [
    {
     "data": {
      "text/plain": [
       "tensor(0.7414, grad_fn=<BinaryCrossEntropyBackward0>)"
      ]
     },
     "execution_count": 63,
     "metadata": {},
     "output_type": "execute_result"
    }
   ],
   "source": [
    "F.binary_cross_entropy(output, targetTS)"
   ]
  },
  {
   "cell_type": "markdown",
   "metadata": {},
   "source": [
    "#### 학습 진행 <hr>\n",
    "- (1) 모델로 학습 진행\n",
    "- (2) 학습결과와 정답 비교 손실 계산\n",
    "- (3) W, b 업데이트 ==> 옵티마이저"
   ]
  },
  {
   "cell_type": "code",
   "execution_count": 69,
   "metadata": {},
   "outputs": [],
   "source": [
    "### ===> 학습에 필요한 준비\n",
    "model2 = Net()\n",
    "\n",
    "loss_fn = nn.BCELoss()\n",
    "\n",
    "optimizer = optim.Adam(model2.parameters())\n",
    "\n",
    "EPOCHS = 10"
   ]
  },
  {
   "cell_type": "code",
   "execution_count": 70,
   "metadata": {},
   "outputs": [
    {
     "name": "stdout",
     "output_type": "stream",
     "text": [
      "[0/10] loss : 0.6668105125427246\n",
      "[1/10] loss : 0.665926992893219\n",
      "[2/10] loss : 0.6650452613830566\n",
      "[3/10] loss : 0.6641657948493958\n",
      "[4/10] loss : 0.6632887721061707\n",
      "[5/10] loss : 0.6624146699905396\n",
      "[6/10] loss : 0.6615437865257263\n",
      "[7/10] loss : 0.6606764793395996\n",
      "[8/10] loss : 0.6598127484321594\n",
      "[9/10] loss : 0.6589529514312744\n"
     ]
    }
   ],
   "source": [
    "### ===> 학습진행\n",
    "\n",
    "# 학습 모드로 모델 설정\n",
    "model2.train()  # 배치 정규화, Dropout, 가중치 초기화 등의 작업을 할 수 있는 환경/메모리 준비\n",
    "\n",
    "for ep in range(EPOCHS):\n",
    "    # 학습\n",
    "    output = model2(featureTS)\n",
    "\n",
    "    # 손실 계산\n",
    "    loss = loss_fn(output, targetTS)\n",
    "\n",
    "    # 업데이트\n",
    "    optimizer.zero_grad()  # 텐서의 grad 속성에 값을 초기화\n",
    "    loss.backward()  # 학습률과 손실값으로 W, b값 업데이트 진행\n",
    "    optimizer.step()  # 모델로부터 전달받은 W, b 텐서의 주소로 새로운 W, b 업데이트\n",
    "\n",
    "    # 에포크에서 진행된 결과 출력\n",
    "    print(f'[{ep}/{EPOCHS}] loss : {loss.item()}')"
   ]
  },
  {
   "cell_type": "code",
   "execution_count": null,
   "metadata": {},
   "outputs": [],
   "source": [
    "### ===> 테스트 : 모델의 성능평가/ 업데이트 발생하면 안됨!\n",
    "### ===> 모델 동작 모드 설정, autograd 기능 정지, requires_grad 텐서 정지\n",
    "\n",
    "# 테스트 모드로 모델 설정\n",
    "model2.eval()\n",
    "\n",
    "with torch.no_grad:\n",
    "    # 테스트\n",
    "    output = model2(featureTS) \n",
    "\n",
    "    # 학습\n",
    "    output = model2(featureTS)\n",
    "\n",
    "    # 손실 계산 : 테스트 데이터에 정답이 존재하는 경우 진행\n",
    "    loss = loss_fn(output, targetTS)\n",
    "\n",
    "    print(f'[TEST] loss : {loss.item()}')"
   ]
  }
 ],
 "metadata": {
  "kernelspec": {
   "display_name": "Torch_PY38",
   "language": "python",
   "name": "python3"
  },
  "language_info": {
   "codemirror_mode": {
    "name": "ipython",
    "version": 3
   },
   "file_extension": ".py",
   "mimetype": "text/x-python",
   "name": "python",
   "nbconvert_exporter": "python",
   "pygments_lexer": "ipython3",
   "version": "3.8.12"
  }
 },
 "nbformat": 4,
 "nbformat_minor": 2
}

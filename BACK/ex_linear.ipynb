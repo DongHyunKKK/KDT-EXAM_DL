{
 "cells": [
  {
   "cell_type": "markdown",
   "metadata": {},
   "source": [
    "### 선형 모델 동작 살펴보기\n",
    "- nn.Linear 클래스\n",
    "- y = wx + b 공식으로 동작하는 선형회귀모델"
   ]
  },
  {
   "cell_type": "code",
   "execution_count": 25,
   "metadata": {},
   "outputs": [],
   "source": [
    "### ===> 모듈 로딩\n",
    "import torch\n",
    "import torch.nn as nn\n",
    "import torch.nn.functional as F"
   ]
  },
  {
   "cell_type": "code",
   "execution_count": 17,
   "metadata": {},
   "outputs": [
    {
     "data": {
      "text/plain": [
       "(torch.Size([3, 2]), torch.Size([2, 1]))"
      ]
     },
     "execution_count": 17,
     "metadata": {},
     "output_type": "execute_result"
    }
   ],
   "source": [
    "### ===> 테스트용 임의의 데이터\n",
    "data = torch.FloatTensor([[8, 9], [6, 6], [3, 4]])\n",
    "target = torch.LongTensor([[17], [12]])\n",
    "\n",
    "data.shape, target.shape"
   ]
  },
  {
   "cell_type": "code",
   "execution_count": 18,
   "metadata": {},
   "outputs": [],
   "source": [
    "### 선형모델 인스턴스 생성 ==> 가 입력 데이터의 피처 갯수, 각출력 데이터의 피처 개수\n",
    "linear = nn.Linear(2, 1)"
   ]
  },
  {
   "cell_type": "code",
   "execution_count": 19,
   "metadata": {},
   "outputs": [
    {
     "name": "stdout",
     "output_type": "stream",
     "text": [
      "[학습 결과]\n",
      "torch.Size([3, 1])\n",
      "tensor([[6.1452],\n",
      "        [4.1251],\n",
      "        [2.4272]], grad_fn=<AddmmBackward0>)\n"
     ]
    }
   ],
   "source": [
    "### ===> 학습\n",
    "output = linear(data)\n",
    "\n",
    "print(f'[학습 결과]\\n{output.shape}\\n{output}')\n"
   ]
  },
  {
   "cell_type": "code",
   "execution_count": 20,
   "metadata": {},
   "outputs": [
    {
     "data": {
      "text/plain": [
       "Parameter containing:\n",
       "tensor([[0.2107, 0.5329]], requires_grad=True)"
      ]
     },
     "execution_count": 20,
     "metadata": {},
     "output_type": "execute_result"
    }
   ],
   "source": [
    "### ===> 모델 파라미터 w, b\n",
    "linear.weight"
   ]
  },
  {
   "cell_type": "code",
   "execution_count": 21,
   "metadata": {},
   "outputs": [
    {
     "data": {
      "text/plain": [
       "Parameter containing:\n",
       "tensor([-0.3366], requires_grad=True)"
      ]
     },
     "execution_count": 21,
     "metadata": {},
     "output_type": "execute_result"
    }
   ],
   "source": [
    "linear.bias"
   ]
  },
  {
   "cell_type": "code",
   "execution_count": 22,
   "metadata": {},
   "outputs": [
    {
     "name": "stdout",
     "output_type": "stream",
     "text": [
      "[0] 6.145223617553711\n",
      "[1] 4.125058174133301\n",
      "[2] 2.427175521850586\n",
      "\n",
      "[0] 6.145223617553711\n",
      "[1] 4.125058174133301\n",
      "[2] 2.427175521850586\n"
     ]
    }
   ],
   "source": [
    "# 아래 두 결과는 동일\n",
    "for i, value in enumerate(output.data):\n",
    "    print(f'[{i}] {value.item()}')\n",
    "\n",
    "print()\n",
    "for i, value in enumerate(output.data):\n",
    "    print(f'[{i}] {output.data[i].item()}')"
   ]
  },
  {
   "cell_type": "code",
   "execution_count": 23,
   "metadata": {},
   "outputs": [
    {
     "data": {
      "text/plain": [
       "tensor([[8., 9.],\n",
       "        [6., 6.],\n",
       "        [3., 4.]])"
      ]
     },
     "execution_count": 23,
     "metadata": {},
     "output_type": "execute_result"
    }
   ],
   "source": [
    "data"
   ]
  },
  {
   "cell_type": "code",
   "execution_count": 24,
   "metadata": {},
   "outputs": [
    {
     "name": "stdout",
     "output_type": "stream",
     "text": [
      "6.145223319530487\n"
     ]
    }
   ],
   "source": [
    "### 선형식\n",
    "w1 = linear.weight[0][0].item()\n",
    "w2 = linear.weight[0][1].item()\n",
    "b = linear.bias[0].item()\n",
    "\n",
    "y = w1*8. + w2*9. + b\n",
    "\n",
    "print(y)"
   ]
  },
  {
   "cell_type": "markdown",
   "metadata": {},
   "source": [
    "#### Linear 결과와 활성화 함수\n",
    "- 인공신경망에서 전결합층에 해당하는 Linear 모델에 AF함수 적용"
   ]
  },
  {
   "cell_type": "code",
   "execution_count": 26,
   "metadata": {},
   "outputs": [
    {
     "name": "stdout",
     "output_type": "stream",
     "text": [
      "tensor([[0.9979],\n",
      "        [0.9841],\n",
      "        [0.9189]], grad_fn=<SigmoidBackward0>)\n"
     ]
    }
   ],
   "source": [
    "### ===> 활성화함수(AF) 적용\n",
    "### sigmoid함수 => 0.1 ~ 1.0 범위의 값으로 반환 \n",
    "\n",
    "af = F.sigmoid(output)\n",
    "print(af)"
   ]
  },
  {
   "cell_type": "code",
   "execution_count": 27,
   "metadata": {},
   "outputs": [
    {
     "name": "stdout",
     "output_type": "stream",
     "text": [
      "tensor([[6.1452],\n",
      "        [4.1251],\n",
      "        [2.4272]], grad_fn=<ReluBackward0>)\n"
     ]
    }
   ],
   "source": [
    "### relu 함수 => 값 > 0 : 그대로, 값 <= 0 : 0 반환\n",
    "af = F.relu(output)\n",
    "print(af)"
   ]
  }
 ],
 "metadata": {
  "kernelspec": {
   "display_name": "Torch_PY38",
   "language": "python",
   "name": "python3"
  },
  "language_info": {
   "codemirror_mode": {
    "name": "ipython",
    "version": 3
   },
   "file_extension": ".py",
   "mimetype": "text/x-python",
   "name": "python",
   "nbconvert_exporter": "python",
   "pygments_lexer": "ipython3",
   "version": "3.8.12"
  }
 },
 "nbformat": 4,
 "nbformat_minor": 2
}

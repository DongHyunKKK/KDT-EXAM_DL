{
 "cells": [
  {
   "cell_type": "markdown",
   "metadata": {},
   "source": [
    "[1] 모듈 로딩 및 데이터 준비"
   ]
  },
  {
   "cell_type": "code",
   "execution_count": 50,
   "metadata": {},
   "outputs": [],
   "source": [
    "# 모듈 로딩\n",
    "import torch\n",
    "import torch.nn as nn\n",
    "import torch.optim as optim \n",
    "from torch.utils.data import Dataset, DataLoader\n",
    "\n",
    "import numpy as np\n",
    "import pandas as pd"
   ]
  },
  {
   "cell_type": "markdown",
   "metadata": {},
   "source": [
    "[2] 사용자 정의 데이터셋 생성"
   ]
  },
  {
   "cell_type": "code",
   "execution_count": 51,
   "metadata": {},
   "outputs": [
    {
     "name": "stdout",
     "output_type": "stream",
     "text": [
      "<class 'pandas.core.frame.DataFrame'>\n",
      "RangeIndex: 150 entries, 0 to 149\n",
      "Data columns (total 5 columns):\n",
      " #   Column        Non-Null Count  Dtype  \n",
      "---  ------        --------------  -----  \n",
      " 0   sepal_length  150 non-null    float64\n",
      " 1   sepal_width   150 non-null    float64\n",
      " 2   petal_length  150 non-null    float64\n",
      " 3   petal_width   150 non-null    float64\n",
      " 4   species       150 non-null    object \n",
      "dtypes: float64(4), object(1)\n",
      "memory usage: 6.0+ KB\n"
     ]
    }
   ],
   "source": [
    "# 데이터 준비\n",
    "filename = '../DATA/iris.csv'\n",
    "\n",
    "irisDF = pd.read_csv(filename)\n",
    "irisDF.info()"
   ]
  },
  {
   "cell_type": "code",
   "execution_count": 52,
   "metadata": {},
   "outputs": [
    {
     "data": {
      "text/plain": [
       "array([[5.1, 3.5, 1.4, 0.2],\n",
       "       [4.9, 3. , 1.4, 0.2]])"
      ]
     },
     "execution_count": 52,
     "metadata": {},
     "output_type": "execute_result"
    }
   ],
   "source": [
    "irisNP = np.loadtxt(filename, delimiter = ',', usecols = [0, 1, 2, 3], skiprows = 1)\n",
    "irisNP[:2]"
   ]
  },
  {
   "cell_type": "markdown",
   "metadata": {},
   "source": [
    "[2-1] 사용자 정의 데이터셋 클래스"
   ]
  },
  {
   "cell_type": "code",
   "execution_count": 53,
   "metadata": {},
   "outputs": [],
   "source": [
    "# 데이터의 Tensor 변환\n",
    "class DLDataset(Dataset):\n",
    "\n",
    "    # 초기화 콜백 함수(callback function)\n",
    "    def __init__(self, x_data, y_data):\n",
    "        super().__init__()\n",
    "        # x, y 데이터 => ndarray\n",
    "        x_data = x_data.values if isinstance(x_data, pd.DataFrame) else x_data\n",
    "        y_data = y_data.values if isinstance(y_data, pd.DataFrame) else y_data\n",
    "\n",
    "        # ndarray => tensor\n",
    "        self.feature = torch.FloatTensor(x_data)\n",
    "        self.target = torch.LongTensor(y_data)  # 타겟을 원핫인코딩하면 FloatTensor 사용\n",
    "        print('[target & target shape]', self.target.shape, self.target.ndim)\n",
    "    \n",
    "    # 데이터셋의 개수 체크 콜백 함수(callback function)\n",
    "    def __len__(self):\n",
    "        return self.target.shape[0]\n",
    "    \n",
    "    # 특정 인덱스 데이터 + 라벨 반환 콜백 함수(callback function)\n",
    "    def __getitem__(self, index):\n",
    "        return self.feature[index], self.target[index]"
   ]
  },
  {
   "cell_type": "markdown",
   "metadata": {},
   "source": [
    "[2-2] 데이터셋 인스턴스 생성"
   ]
  },
  {
   "cell_type": "code",
   "execution_count": 54,
   "metadata": {},
   "outputs": [
    {
     "name": "stdout",
     "output_type": "stream",
     "text": [
      "featureDF => (150, 4), 2D\n",
      "targerSR => (150,), 1D\n"
     ]
    }
   ],
   "source": [
    "# 피처와 라벨 분리\n",
    "featureDF = irisDF[irisDF.columns[:-1]]\n",
    "targetSR = irisDF[irisDF.columns[-1]]\n",
    "\n",
    "print(f'featureDF => {featureDF.shape}, {featureDF.ndim}D')\n",
    "print(f'targerSR => {targetSR.shape}, {targetSR.ndim}D')"
   ]
  },
  {
   "cell_type": "code",
   "execution_count": 55,
   "metadata": {},
   "outputs": [
    {
     "name": "stdout",
     "output_type": "stream",
     "text": [
      "(150, 1) 2\n"
     ]
    }
   ],
   "source": [
    "# 타겟이 object이므로 정수로 변환\n",
    "from sklearn.preprocessing import LabelEncoder\n",
    "\n",
    "targetNP = LabelEncoder().fit_transform(targetSR)\n",
    "targetNP = targetNP.reshape(-1, 1)\n",
    "print(targetNP.shape, targetNP.ndim)"
   ]
  },
  {
   "cell_type": "code",
   "execution_count": 56,
   "metadata": {},
   "outputs": [
    {
     "name": "stdout",
     "output_type": "stream",
     "text": [
      "[target & target shape] torch.Size([150, 1]) 2\n"
     ]
    },
    {
     "data": {
      "text/plain": [
       "(tensor([5.1000, 3.5000, 1.4000, 0.2000]), tensor([0]))"
      ]
     },
     "execution_count": 56,
     "metadata": {},
     "output_type": "execute_result"
    }
   ],
   "source": [
    "# 데이터셋 생성 => DF, NP\n",
    "my_dataset = DLDataset(featureDF, targetNP)\n",
    "my_dataset[0]"
   ]
  },
  {
   "cell_type": "code",
   "execution_count": 57,
   "metadata": {},
   "outputs": [
    {
     "name": "stdout",
     "output_type": "stream",
     "text": [
      "[target & target shape] torch.Size([150, 1]) 2\n"
     ]
    },
    {
     "data": {
      "text/plain": [
       "(tensor([5.1000, 3.5000, 1.4000, 0.2000]), tensor([0]))"
      ]
     },
     "execution_count": 57,
     "metadata": {},
     "output_type": "execute_result"
    }
   ],
   "source": [
    "# 데이터셋 생성 => NP, NP\n",
    "my_dataset2 = DLDataset(irisNP, targetNP)\n",
    "my_dataset2[0]"
   ]
  },
  {
   "cell_type": "markdown",
   "metadata": {},
   "source": [
    "[2-3] 학습용, 검증용, 테스트용 Dataset"
   ]
  },
  {
   "cell_type": "code",
   "execution_count": 58,
   "metadata": {},
   "outputs": [
    {
     "name": "stdout",
     "output_type": "stream",
     "text": [
      "trainDS =>105개, validDS => 15개, testDS => 30개\n",
      "Subset 속성 =>\n",
      "indices : [42, 95, 30, 64, 52, 35, 130, 40, 82, 17, 108, 94, 68, 97, 117, 127, 41, 44, 57, 140, 149, 32, 23, 102, 16, 113, 71, 18, 67, 66, 0, 25, 101, 112, 91, 3, 59, 116, 86, 84, 106, 142, 43, 39, 26, 98, 93, 20, 87, 19, 120, 114, 7, 63, 76, 89, 36, 45, 37, 56, 58, 122, 51, 145, 24, 21, 105, 62, 15, 11, 48, 133, 88, 50, 6, 134, 111, 8, 49, 75, 69, 124, 4, 147, 80, 100, 99, 141, 47, 107, 13, 109, 129, 28, 38, 53, 121, 5, 55, 31, 73, 74, 54, 29, 12] \n",
      "indices : <__main__.DLDataset object at 0x000002029B6F9940>\n",
      "Subset 속성 =>\n",
      "indices : [22, 104, 81, 1, 103, 125, 85, 2, 96, 128, 27, 118, 77, 110, 146] \n",
      "indices : <__main__.DLDataset object at 0x000002029B6F9940>\n",
      "Subset 속성 =>\n",
      "indices : [72, 139, 131, 60, 65, 92, 135, 83, 14, 34, 137, 10, 119, 9, 148, 79, 78, 70, 144, 143, 123, 115, 61, 132, 90, 46, 126, 136, 33, 138] \n",
      "indices : <__main__.DLDataset object at 0x000002029B6F9940>\n"
     ]
    }
   ],
   "source": [
    "# 파이토치\n",
    "from torch.utils.data import random_split\n",
    "\n",
    "# 학습용, 검증용, 테스트 데이터 비율\n",
    "seed = torch.Generator().manual_seed(42)\n",
    "\n",
    "trainDS, validDS, testDS = random_split(my_dataset2, [0.7, 0.1, 0.2], generator = seed)\n",
    "\n",
    "print(f'trainDS =>{len(trainDS)}개, validDS => {len(validDS)}개, testDS => {len(testDS)}개')\n",
    "\n",
    "print(f'Subset 속성 =>\\nindices : {trainDS.indices} \\nindices : {trainDS.dataset}')\n",
    "print(f'Subset 속성 =>\\nindices : {validDS.indices} \\nindices : {validDS.dataset}')\n",
    "print(f'Subset 속성 =>\\nindices : {testDS.indices} \\nindices : {testDS.dataset}')"
   ]
  },
  {
   "cell_type": "markdown",
   "metadata": {},
   "source": [
    "[3] DataLoader 생성 : 학습용, 검증용, 테스트용"
   ]
  },
  {
   "cell_type": "code",
   "execution_count": 59,
   "metadata": {},
   "outputs": [
    {
     "data": {
      "text/plain": [
       "(10, 2, 3)"
      ]
     },
     "execution_count": 59,
     "metadata": {},
     "output_type": "execute_result"
    }
   ],
   "source": [
    "# DataLoader 생성\n",
    "# drop_last 매개변수 : 배치 사이즈로 데이터셋 분리 후 남는 데이터 처리 방법 설정 [기본 : False]\n",
    "batch = 10\n",
    "trainDL = DataLoader(trainDS, batch_size = batch, drop_last = True)\n",
    "validDL = DataLoader(validDS, batch_size = batch)\n",
    "testDL = DataLoader(testDS, batch_size = batch)\n",
    "\n",
    "len(trainDL), len(validDL), len(testDL)"
   ]
  },
  {
   "cell_type": "code",
   "execution_count": 60,
   "metadata": {},
   "outputs": [
    {
     "name": "stdout",
     "output_type": "stream",
     "text": [
      "batch_size = 10\n",
      "trainDS => 105개, validDS => 15개, testDS => 30개\n",
      "trainDL => 10개, validDL => 2개, testDL => 3개\n"
     ]
    }
   ],
   "source": [
    "# Epoch당 반복 단위\n",
    "print(f'batch_size = {batch}')\n",
    "print(f'trainDS => {len(trainDS)}개, validDS => {len(validDS)}개, testDS => {len(testDS)}개')\n",
    "print(f'trainDL => {len(trainDL)}개, validDL => {len(validDL)}개, testDL => {len(testDL)}개')"
   ]
  },
  {
   "cell_type": "code",
   "execution_count": 62,
   "metadata": {},
   "outputs": [
    {
     "name": "stdout",
     "output_type": "stream",
     "text": [
      "[0] feature tensor([[4.6000, 3.6000, 1.0000, 0.2000],\n",
      "        [6.5000, 3.0000, 5.8000, 2.2000],\n",
      "        [5.5000, 2.4000, 3.7000, 1.0000],\n",
      "        [4.9000, 3.0000, 1.4000, 0.2000],\n",
      "        [6.3000, 2.9000, 5.6000, 1.8000],\n",
      "        [7.2000, 3.2000, 6.0000, 1.8000],\n",
      "        [6.0000, 3.4000, 4.5000, 1.6000],\n",
      "        [4.7000, 3.2000, 1.3000, 0.2000],\n",
      "        [5.7000, 2.9000, 4.2000, 1.3000],\n",
      "        [6.4000, 2.8000, 5.6000, 2.1000]])\n",
      "[1] feature tensor([[5.2000, 3.5000, 1.5000, 0.2000],\n",
      "        [7.7000, 2.6000, 6.9000, 2.3000],\n",
      "        [6.7000, 3.0000, 5.0000, 1.7000],\n",
      "        [6.5000, 3.2000, 5.1000, 2.0000],\n",
      "        [6.3000, 2.5000, 5.0000, 1.9000]])\n"
     ]
    }
   ],
   "source": [
    "# DataLoader 속성\n",
    "for _, (feature, target) in enumerate(validDL):\n",
    "    print(f'[{_}] feature {feature}')"
   ]
  },
  {
   "cell_type": "markdown",
   "metadata": {},
   "source": [
    "[4] Model 클래스 정의 : 입출력 피처 수, 층 수, 은닉층의 노드 수\n",
    "- 구조 설계\n",
    "    * 입력층 : 입력 => 피처 개수, iris 데이터의 경우 4개\n",
    "    * 은닉층 : 사용자가 직접 조정\n",
    "    * 출력층 : [분류] => 타겟 클래스 개수, [회귀] => 1개"
   ]
  },
  {
   "cell_type": "code",
   "execution_count": 63,
   "metadata": {},
   "outputs": [],
   "source": [
    "# 모델 클래스 정의\n",
    "# 클래스명 : CModel\n",
    "class CModel(nn.Module):\n",
    "\n",
    "    # 구성요소 정의 함수\n",
    "    def __init__(self, in_dim, out_dim):\n",
    "        super().__init__()\n",
    "        self.input_layer = nn.Linear(in_dim, 100)\n",
    "        self.relu = nn.ReLU()\n",
    "        self.hidden_layer = nn.Linear(100, 27)\n",
    "        self.output_layer = nn.Linear(27, out_dim)\n",
    "    \n",
    "    # 순방향 학습 진행 함수\n",
    "    def forward(self, x):\n",
    "        y = self.input_layer(x) \n",
    "        y = self.relu(y)  # 결과 100개 반환\n",
    "        y = self.hidden_layer(y)\n",
    "        y = self.relu(y) \n",
    "        y = self.output_layer(y)\n",
    "        return y"
   ]
  },
  {
   "cell_type": "markdown",
   "metadata": {},
   "source": [
    "[5] 학습 준비 : 실행디바이스, 모델, 최적화, 손실함수, 학습횟수, 학습함수, 평가함수, 예측함수"
   ]
  },
  {
   "cell_type": "code",
   "execution_count": 64,
   "metadata": {},
   "outputs": [],
   "source": [
    "# 실행 디바이스 선택\n",
    "DEVICE = 'cuda' if torch.cuda.is_available() else 'cpu'\n",
    "\n",
    "# 학습 횟수\n",
    "EPOCHS = 50"
   ]
  },
  {
   "cell_type": "code",
   "execution_count": 65,
   "metadata": {},
   "outputs": [
    {
     "data": {
      "text/plain": [
       "torch.Size([150, 1])"
      ]
     },
     "execution_count": 65,
     "metadata": {},
     "output_type": "execute_result"
    }
   ],
   "source": [
    "my_dataset2.target.shape"
   ]
  },
  {
   "cell_type": "code",
   "execution_count": 66,
   "metadata": {},
   "outputs": [
    {
     "name": "stdout",
     "output_type": "stream",
     "text": [
      "IN : 4, OUT : 3\n"
     ]
    }
   ],
   "source": [
    "# 모델 인스턴스\n",
    "IN_DIM, OUT_DIM = my_dataset2.feature.shape[1], targetSR.nunique()\n",
    "model = CModel(IN_DIM, OUT_DIM)\n",
    "print(f'IN : {IN_DIM}, OUT : {OUT_DIM}')"
   ]
  },
  {
   "cell_type": "code",
   "execution_count": 67,
   "metadata": {},
   "outputs": [
    {
     "name": "stdout",
     "output_type": "stream",
     "text": [
      "CModel(\n",
      "  (input_layer): Linear(in_features=4, out_features=100, bias=True)\n",
      "  (relu): ReLU()\n",
      "  (hidden_layer): Linear(in_features=100, out_features=27, bias=True)\n",
      "  (output_layer): Linear(in_features=27, out_features=3, bias=True)\n",
      ")\n"
     ]
    }
   ],
   "source": [
    "print(model)"
   ]
  },
  {
   "cell_type": "code",
   "execution_count": 68,
   "metadata": {},
   "outputs": [],
   "source": [
    "from torch.optim.lr_scheduler import ReduceLROnPlateau\n",
    "# 손실함수\n",
    "LOSS_FN = nn.CrossEntropyLoss().to(DEVICE)\n",
    "\n",
    "# 최적화 인스턴스\n",
    "import torch.optim as optim\n",
    "OPTIMIZER = optim.Adam(model.parameters())\n",
    "SCHEDULER = ReduceLROnPlateau(OPTIMIZER, mode = 'min', patience = 3)"
   ]
  },
  {
   "cell_type": "markdown",
   "metadata": {},
   "source": [
    "- 학습 및 검증관련 함수 정의"
   ]
  },
  {
   "cell_type": "code",
   "execution_count": 69,
   "metadata": {},
   "outputs": [],
   "source": [
    "import torchmetrics.functional as metrics"
   ]
  },
  {
   "cell_type": "code",
   "execution_count": 70,
   "metadata": {},
   "outputs": [],
   "source": [
    "# 학습 진행함수\n",
    "def training():\n",
    "    # 학습모드 => 정규화, 경사하강법, 드롭아웃 등의 기능 활성화\n",
    "    model.train()\n",
    "    # 배치크기만큼 학습 진행 및 저장\n",
    "    train_loss = []\n",
    "    for cnt, (feature, target) in enumerate(trainDL):\n",
    "        # print(cnt, feature, target)\n",
    "        feature, target = feature.to(DEVICE), target.to(DEVICE)\n",
    "        target = target.squeeze()  # 원핫으로 만들면 필요없음\n",
    "\n",
    "        # 학습\n",
    "        pre_target = model(feature)\n",
    "        # print(f'pre_target => {pre_target.shape}, {pre_target.ndim}D')\n",
    "        # print(f'target => {target.shape}, {target.ndim}D')\n",
    "\n",
    "        # 손실함수\n",
    "        loss = LOSS_FN(pre_target, target)\n",
    "        train_loss.append(loss)\n",
    "        \n",
    "        # W, b 업데이트\n",
    "        OPTIMIZER.zero_grad()\n",
    "        loss.backward()\n",
    "        OPTIMIZER.step()\n",
    "\n",
    "        # 배치 단위 학습 진행 메세지 출력\n",
    "        # print(f'[Train {cnt} Batch Loss] ==> {loss}')\n",
    "\n",
    "    # 에포크 단위 학습 진행 메세지 출력\n",
    "    acc = metrics.accuracy(pre_target, target, task = 'multiclass', num_classes = 3)\n",
    "    print(f'[Train Loss] ==> {loss} ')\n",
    "\n",
    "    return train_loss"
   ]
  },
  {
   "cell_type": "code",
   "execution_count": 71,
   "metadata": {},
   "outputs": [],
   "source": [
    "# 검증 및 평가 진행함수\n",
    "# 매개변수 dataLoader : 검증 또는 테스트 데이터셋에 대한 Loader\n",
    "def testing(dataLoader):\n",
    "    # 추론모드 => 정규화, 경사하강법, 드롭아웃 등의 기능 활성화\n",
    "    model.eval()\n",
    "    \n",
    "    with torch.no_grad():\n",
    "        # 배치크기만큼 학습 진행 및 저장\n",
    "        val_loss = []\n",
    "        for cnt, (feature, target) in enumerate(dataLoader):\n",
    "            # print(cnt, feature, target)\n",
    "            feature, target = feature.to(DEVICE), target.to(DEVICE)\n",
    "            target = target.squeeze()  # 원핫으로 만들면 필요없음\n",
    "\n",
    "            # 학습\n",
    "            pre_target = model(feature)\n",
    "            # print(f'pre_target => {pre_target.shape}, {pre_target.ndim}D')\n",
    "            # print(f'target => {target.shape}, {target.ndim}D')\n",
    "        \n",
    "            # 손실함수\n",
    "            loss = LOSS_FN(pre_target, target)\n",
    "            val_loss.append(loss)\n",
    "\n",
    "            # 배치 단위 학습 진행 메세지 출력\n",
    "            # print(f'[Valid {cnt} Batch Loss] ==> {loss}')\n",
    "\n",
    "    # 에포크 단위 학습 진행 메세지 출력\n",
    "    acc = metrics.accuracy(pre_target, target, task = 'multiclass', num_classes = 3)\n",
    "    print(f'[Valid Loss] ==> {loss}, [Valid Accuracy] ==> {acc}')\n",
    "\n",
    "    return val_loss"
   ]
  },
  {
   "cell_type": "code",
   "execution_count": 72,
   "metadata": {},
   "outputs": [],
   "source": [
    "# 예측 함수\n",
    "def predict():\n",
    "    pass"
   ]
  },
  {
   "cell_type": "code",
   "execution_count": 73,
   "metadata": {},
   "outputs": [
    {
     "name": "stdout",
     "output_type": "stream",
     "text": [
      "[Train Loss] ==> 0.9306038022041321 \n",
      "[Valid Loss] ==> 0.8951473236083984 [Valid Accuracy] 0.800000011920929\n",
      "[0/50] TRAIN : 0.9957864880561829,          VALID : 0.9003342390060425\n",
      "[Train Loss] ==> 0.7772628664970398 \n",
      "[Valid Loss] ==> 0.7689316272735596 [Valid Accuracy] 0.800000011920929\n",
      "[1/50] TRAIN : 0.8667465448379517,          VALID : 0.7775547504425049\n",
      "[Train Loss] ==> 0.6411141157150269 \n",
      "[Valid Loss] ==> 0.6595633625984192 [Valid Accuracy] 0.800000011920929\n",
      "[2/50] TRAIN : 0.7510023713111877,          VALID : 0.6682748794555664\n",
      "[Train Loss] ==> 0.5263972282409668 \n",
      "[Valid Loss] ==> 0.57602459192276 [Valid Accuracy] 0.800000011920929\n",
      "[3/50] TRAIN : 0.6418629884719849,          VALID : 0.5774166584014893\n",
      "[Train Loss] ==> 0.4374598562717438 \n",
      "[Valid Loss] ==> 0.526907205581665 [Valid Accuracy] 0.800000011920929\n",
      "[4/50] TRAIN : 0.5473095178604126,          VALID : 0.5162461400032043\n",
      "[Train Loss] ==> 0.3806770443916321 \n",
      "[Valid Loss] ==> 0.4898742139339447 [Valid Accuracy] 0.800000011920929\n",
      "[5/50] TRAIN : 0.4740775227546692,          VALID : 0.46846091747283936\n",
      "[Train Loss] ==> 0.3387936055660248 \n",
      "[Valid Loss] ==> 0.4597591757774353 [Valid Accuracy] 0.800000011920929\n",
      "[6/50] TRAIN : 0.4189513325691223,          VALID : 0.4290521740913391\n",
      "[Train Loss] ==> 0.3093709647655487 \n",
      "[Valid Loss] ==> 0.4319879412651062 [Valid Accuracy] 1.0\n",
      "[7/50] TRAIN : 0.3757801651954651,          VALID : 0.393989622592926\n",
      "[Train Loss] ==> 0.2865951359272003 \n",
      "[Valid Loss] ==> 0.40737184882164 [Valid Accuracy] 1.0\n",
      "[8/50] TRAIN : 0.3394094407558441,          VALID : 0.3620932102203369\n",
      "[Train Loss] ==> 0.26818105578422546 \n",
      "[Valid Loss] ==> 0.383963018655777 [Valid Accuracy] 1.0\n",
      "[9/50] TRAIN : 0.3062903881072998,          VALID : 0.3315048813819885\n",
      "[Train Loss] ==> 0.24896684288978577 \n",
      "[Valid Loss] ==> 0.36137908697128296 [Valid Accuracy] 1.0\n",
      "[10/50] TRAIN : 0.27538448572158813,          VALID : 0.3030166029930115\n",
      "[Train Loss] ==> 0.23037858307361603 \n",
      "[Valid Loss] ==> 0.3381982147693634 [Valid Accuracy] 1.0\n",
      "[11/50] TRAIN : 0.24723653495311737,          VALID : 0.27484413981437683\n",
      "[Train Loss] ==> 0.21408112347126007 \n",
      "[Valid Loss] ==> 0.3204341232776642 [Valid Accuracy] 1.0\n",
      "[12/50] TRAIN : 0.22203798592090607,          VALID : 0.2520450949668884\n",
      "[Train Loss] ==> 0.19748444855213165 \n",
      "[Valid Loss] ==> 0.3021722137928009 [Valid Accuracy] 1.0\n",
      "[13/50] TRAIN : 0.19896343350410461,          VALID : 0.23024655878543854\n",
      "[Train Loss] ==> 0.1833472102880478 \n",
      "[Valid Loss] ==> 0.2865903973579407 [Valid Accuracy] 1.0\n",
      "[14/50] TRAIN : 0.17907243967056274,          VALID : 0.21182779967784882\n",
      "[Train Loss] ==> 0.170203298330307 \n",
      "[Valid Loss] ==> 0.27260899543762207 [Valid Accuracy] 1.0\n",
      "[15/50] TRAIN : 0.16184276342391968,          VALID : 0.19586974382400513\n",
      "[Train Loss] ==> 0.15845850110054016 \n",
      "[Valid Loss] ==> 0.25914257764816284 [Valid Accuracy] 1.0\n",
      "[16/50] TRAIN : 0.14671039581298828,          VALID : 0.18148492276668549\n",
      "[Train Loss] ==> 0.14799240231513977 \n",
      "[Valid Loss] ==> 0.24755077064037323 [Valid Accuracy] 1.0\n",
      "[17/50] TRAIN : 0.13396234810352325,          VALID : 0.16932186484336853\n",
      "[Train Loss] ==> 0.13858114182949066 \n",
      "[Valid Loss] ==> 0.23698246479034424 [Valid Accuracy] 1.0\n",
      "[18/50] TRAIN : 0.122847780585289,          VALID : 0.15870732069015503\n",
      "[Train Loss] ==> 0.13051217794418335 \n",
      "[Valid Loss] ==> 0.2273673564195633 [Valid Accuracy] 1.0\n",
      "[19/50] TRAIN : 0.11333665996789932,          VALID : 0.1493481993675232\n",
      "[Train Loss] ==> 0.12328833341598511 \n",
      "[Valid Loss] ==> 0.21900153160095215 [Valid Accuracy] 1.0\n",
      "[20/50] TRAIN : 0.10526330769062042,          VALID : 0.14141497015953064\n",
      "[Train Loss] ==> 0.11667640507221222 \n",
      "[Valid Loss] ==> 0.21078383922576904 [Valid Accuracy] 1.0\n",
      "[21/50] TRAIN : 0.09805862605571747,          VALID : 0.13406318426132202\n",
      "[Train Loss] ==> 0.11099542677402496 \n",
      "[Valid Loss] ==> 0.20399081707000732 [Valid Accuracy] 1.0\n",
      "[22/50] TRAIN : 0.0920778214931488,          VALID : 0.12793323397636414\n",
      "[Train Loss] ==> 0.10576502233743668 \n",
      "[Valid Loss] ==> 0.1974962055683136 [Valid Accuracy] 1.0\n",
      "[23/50] TRAIN : 0.0866183415055275,          VALID : 0.1223025694489479\n",
      "[Train Loss] ==> 0.1010652557015419 \n",
      "[Valid Loss] ==> 0.19144386053085327 [Valid Accuracy] 1.0\n",
      "[24/50] TRAIN : 0.08186175674200058,          VALID : 0.11722460389137268\n",
      "[Train Loss] ==> 0.09682103991508484 \n",
      "[Valid Loss] ==> 0.18580976128578186 [Valid Accuracy] 1.0\n",
      "[25/50] TRAIN : 0.07766218483448029,          VALID : 0.11259645968675613\n",
      "[Train Loss] ==> 0.09294791519641876 \n",
      "[Valid Loss] ==> 0.18058326840400696 [Valid Accuracy] 1.0\n",
      "[26/50] TRAIN : 0.07393478602170944,          VALID : 0.1083867996931076\n",
      "[Train Loss] ==> 0.08935457468032837 \n",
      "[Valid Loss] ==> 0.17589816451072693 [Valid Accuracy] 1.0\n",
      "[27/50] TRAIN : 0.07063142210245132,          VALID : 0.10464046895503998\n",
      "[Train Loss] ==> 0.0860997810959816 \n",
      "[Valid Loss] ==> 0.17142325639724731 [Valid Accuracy] 1.0\n",
      "[28/50] TRAIN : 0.06757394969463348,          VALID : 0.10116031020879745\n",
      "[Train Loss] ==> 0.08302079886198044 \n",
      "[Valid Loss] ==> 0.1671725958585739 [Valid Accuracy] 1.0\n",
      "[29/50] TRAIN : 0.06483291834592819,          VALID : 0.09791494905948639\n",
      "[Train Loss] ==> 0.08023714274168015 \n",
      "[Valid Loss] ==> 0.16323034465312958 [Valid Accuracy] 1.0\n",
      "[30/50] TRAIN : 0.06235625594854355,          VALID : 0.09495025873184204\n",
      "[Train Loss] ==> 0.07756694406270981 \n",
      "[Valid Loss] ==> 0.159463033080101 [Valid Accuracy] 1.0\n",
      "[31/50] TRAIN : 0.060082562267780304,          VALID : 0.0921589657664299\n",
      "[Train Loss] ==> 0.07516564428806305 \n",
      "[Valid Loss] ==> 0.15599659085273743 [Valid Accuracy] 1.0\n",
      "[32/50] TRAIN : 0.05802749842405319,          VALID : 0.08962336927652359\n",
      "[Train Loss] ==> 0.07284145802259445 \n",
      "[Valid Loss] ==> 0.15265534818172455 [Valid Accuracy] 1.0\n",
      "[33/50] TRAIN : 0.05610867589712143,          VALID : 0.08721571415662766\n",
      "[Train Loss] ==> 0.07065850496292114 \n",
      "[Valid Loss] ==> 0.14947167038917542 [Valid Accuracy] 1.0\n",
      "[34/50] TRAIN : 0.05433349683880806,          VALID : 0.08494656533002853\n",
      "[Train Loss] ==> 0.06862206757068634 \n",
      "[Valid Loss] ==> 0.1464921087026596 [Valid Accuracy] 1.0\n",
      "[35/50] TRAIN : 0.05271349474787712,          VALID : 0.08284506946802139\n",
      "[Train Loss] ==> 0.06667225062847137 \n",
      "[Valid Loss] ==> 0.14363297820091248 [Valid Accuracy] 1.0\n",
      "[36/50] TRAIN : 0.05118867754936218,          VALID : 0.08085066825151443\n",
      "[Train Loss] ==> 0.06480911374092102 \n",
      "[Valid Loss] ==> 0.1408974826335907 [Valid Accuracy] 1.0\n",
      "[37/50] TRAIN : 0.0497666634619236,          VALID : 0.07896009832620621\n",
      "[Train Loss] ==> 0.06295561790466309 \n",
      "[Valid Loss] ==> 0.1382550448179245 [Valid Accuracy] 1.0\n",
      "[38/50] TRAIN : 0.04841850697994232,          VALID : 0.0771484225988388\n",
      "[Train Loss] ==> 0.06138122081756592 \n",
      "[Valid Loss] ==> 0.1357962191104889 [Valid Accuracy] 1.0\n",
      "[39/50] TRAIN : 0.04720238968729973,          VALID : 0.07547413557767868\n",
      "[Train Loss] ==> 0.059872984886169434 \n",
      "[Valid Loss] ==> 0.133379727602005 [Valid Accuracy] 1.0\n",
      "[40/50] TRAIN : 0.04599755257368088,          VALID : 0.07385721802711487\n",
      "[Train Loss] ==> 0.05833922699093819 \n",
      "[Valid Loss] ==> 0.13107691705226898 [Valid Accuracy] 1.0\n",
      "[41/50] TRAIN : 0.044900842010974884,          VALID : 0.07233286648988724\n",
      "[Train Loss] ==> 0.05685534328222275 \n",
      "[Valid Loss] ==> 0.1288415491580963 [Valid Accuracy] 1.0\n",
      "[42/50] TRAIN : 0.04385143518447876,          VALID : 0.07086506485939026\n",
      "[Train Loss] ==> 0.05543284863233566 \n",
      "[Valid Loss] ==> 0.12671247124671936 [Valid Accuracy] 1.0\n",
      "[43/50] TRAIN : 0.042883068323135376,          VALID : 0.06947701424360275\n",
      "[Train Loss] ==> 0.05409998819231987 \n",
      "[Valid Loss] ==> 0.12467273324728012 [Valid Accuracy] 1.0\n",
      "[44/50] TRAIN : 0.041962880641222,          VALID : 0.06815624982118607\n",
      "[Train Loss] ==> 0.052803635597229004 \n",
      "[Valid Loss] ==> 0.1226809173822403 [Valid Accuracy] 1.0\n",
      "[45/50] TRAIN : 0.041079096496105194,          VALID : 0.06687452644109726\n",
      "[Train Loss] ==> 0.051589518785476685 \n",
      "[Valid Loss] ==> 0.12072094529867172 [Valid Accuracy] 1.0\n",
      "[46/50] TRAIN : 0.04025355726480484,          VALID : 0.06562769412994385\n",
      "[Train Loss] ==> 0.050415657460689545 \n",
      "[Valid Loss] ==> 0.11880797147750854 [Valid Accuracy] 1.0\n",
      "[47/50] TRAIN : 0.03946566954255104,          VALID : 0.0644182413816452\n",
      "[Train Loss] ==> 0.049333635717630386 \n",
      "[Valid Loss] ==> 0.11698435246944427 [Valid Accuracy] 1.0\n",
      "[48/50] TRAIN : 0.0387331023812294,          VALID : 0.06327342242002487\n",
      "[Train Loss] ==> 0.048247355967760086 \n",
      "[Valid Loss] ==> 0.11521440744400024 [Valid Accuracy] 1.0\n",
      "[49/50] TRAIN : 0.037996090948581696,          VALID : 0.06216026842594147\n"
     ]
    }
   ],
   "source": [
    "# 지정된 횟수만큼 처음부터 끝까지 학습 및 검증 진행\n",
    "# 목표 : 최적(Error 최소화)의 W, b를 가진 모델 완성\n",
    "for eps in range(EPOCHS):\n",
    "    # 학습\n",
    "    train_loss = training()\n",
    "    \n",
    "    # 검증\n",
    "    valid_loss = testing(validDL)\n",
    "    \n",
    "    print(f'[{eps}/{EPOCHS}] TRAIN : {sum(train_loss)/len(train_loss)},\\\n",
    "          VALID : {sum(valid_loss)/len(valid_loss)}')\n",
    "    \n",
    "    mean_valid_loss = sum(valid_loss)/len(valid_loss)\n",
    "    SCHEDULER.step(mean_valid_loss)\n",
    "    # 조기종료 기능 => 조건 : val_loss가 지정된 횟수(예 : 5)이사아 개선이 안되면 학습 종료\n",
    "    if SCHEDULER.num_bad_epochs > SCHEDULER.patience:\n",
    "        print(f'Early stopping at epoch {eps}')\n",
    "        break"
   ]
  },
  {
   "cell_type": "markdown",
   "metadata": {},
   "source": [
    "[7] 테스트 진행"
   ]
  }
 ],
 "metadata": {
  "kernelspec": {
   "display_name": "Torch_PY38",
   "language": "python",
   "name": "python3"
  },
  "language_info": {
   "codemirror_mode": {
    "name": "ipython",
    "version": 3
   },
   "file_extension": ".py",
   "mimetype": "text/x-python",
   "name": "python",
   "nbconvert_exporter": "python",
   "pygments_lexer": "ipython3",
   "version": "3.8.12"
  }
 },
 "nbformat": 4,
 "nbformat_minor": 2
}

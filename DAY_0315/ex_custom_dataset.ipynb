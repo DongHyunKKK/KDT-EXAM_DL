{
 "cells": [
  {
   "cell_type": "markdown",
   "metadata": {},
   "source": [
    "Data File ===> DataFrame, Numpy (전처리) ===> Tensor ===> Dataset(피처 + 타겟) ===> DataLoader 생성"
   ]
  },
  {
   "cell_type": "markdown",
   "metadata": {},
   "source": [
    "### Dataset & DataLoader 살펴보기 <hr>\n",
    "- Pytorch에서 배치크기만 데이터를 조절하기 위한 메커니즘\n",
    "- Dataset = 사용 데이터를 기반으로 사용자정의 클래스 작성\n",
    "- DataLoader : Dataset에서 지정된 batch size 만큼 피처와 타겟을 추출하여 전달"
   ]
  },
  {
   "cell_type": "markdown",
   "metadata": {},
   "source": [
    "[1] 모듈 로딩 및 데이터 준비"
   ]
  },
  {
   "cell_type": "code",
   "execution_count": 67,
   "metadata": {},
   "outputs": [],
   "source": [
    "# 모듈 로딩\n",
    "import torch\n",
    "import torch.nn as nn\n",
    "import torch.optim as optim \n",
    "from torch.utils.data import Dataset, DataLoader\n",
    "\n",
    "import numpy as np\n",
    "import pandas as pd"
   ]
  },
  {
   "cell_type": "code",
   "execution_count": 68,
   "metadata": {},
   "outputs": [
    {
     "name": "stdout",
     "output_type": "stream",
     "text": [
      "x_data => torch.Size([5, 3]), 2\n",
      "y_data => torch.Size([5, 1]), 2\n"
     ]
    }
   ],
   "source": [
    "# 데이터 준비\n",
    "x_data = torch.IntTensor([[10, 20, 30], [20, 30, 40], [30, 40, 50], [40, 50, 60], [50, 60 ,70]])\n",
    "y_data = torch.IntTensor([[20], [30], [40], [50], [60]])\n",
    "print(f'x_data => {x_data.shape}, {x_data.ndim}')\n",
    "print(f'y_data => {y_data.shape}, {y_data.ndim}')"
   ]
  },
  {
   "cell_type": "markdown",
   "metadata": {},
   "source": [
    "[2] 데이터셋 생성"
   ]
  },
  {
   "cell_type": "markdown",
   "metadata": {},
   "source": [
    "[2-1] TensorDataset 활용 : Dataset의 sub_class"
   ]
  },
  {
   "cell_type": "code",
   "execution_count": 69,
   "metadata": {},
   "outputs": [],
   "source": [
    "# TensorDataset 클래스 로딩\n",
    "from torch.utils.data import TensorDataset"
   ]
  },
  {
   "cell_type": "code",
   "execution_count": 70,
   "metadata": {},
   "outputs": [
    {
     "data": {
      "text/plain": [
       "<torch.utils.data.dataset.TensorDataset at 0x19fb689fb80>"
      ]
     },
     "execution_count": 70,
     "metadata": {},
     "output_type": "execute_result"
    }
   ],
   "source": [
    "dataset = TensorDataset(x_data, y_data)\n",
    "dataset"
   ]
  },
  {
   "cell_type": "code",
   "execution_count": 71,
   "metadata": {},
   "outputs": [
    {
     "data": {
      "text/plain": [
       "(tensor([[10, 20, 30],\n",
       "         [20, 30, 40],\n",
       "         [30, 40, 50],\n",
       "         [40, 50, 60],\n",
       "         [50, 60, 70]], dtype=torch.int32),\n",
       " tensor([[20],\n",
       "         [30],\n",
       "         [40],\n",
       "         [50],\n",
       "         [60]], dtype=torch.int32))"
      ]
     },
     "execution_count": 71,
     "metadata": {},
     "output_type": "execute_result"
    }
   ],
   "source": [
    "dataset.tensors"
   ]
  },
  {
   "cell_type": "code",
   "execution_count": 72,
   "metadata": {},
   "outputs": [
    {
     "data": {
      "text/plain": [
       "(tensor([10, 20, 30], dtype=torch.int32), tensor([20], dtype=torch.int32))"
      ]
     },
     "execution_count": 72,
     "metadata": {},
     "output_type": "execute_result"
    }
   ],
   "source": [
    "# __getitem__() 메서드 호출\n",
    "dataset[0]"
   ]
  },
  {
   "cell_type": "code",
   "execution_count": 73,
   "metadata": {},
   "outputs": [
    {
     "data": {
      "text/plain": [
       "5"
      ]
     },
     "execution_count": 73,
     "metadata": {},
     "output_type": "execute_result"
    }
   ],
   "source": [
    "len(dataset)"
   ]
  },
  {
   "cell_type": "code",
   "execution_count": 87,
   "metadata": {},
   "outputs": [],
   "source": [
    "filename = '../DATA/Iris.csv'\n",
    "irisDF = pd.read_csv(filename)"
   ]
  },
  {
   "cell_type": "code",
   "execution_count": 88,
   "metadata": {},
   "outputs": [
    {
     "data": {
      "text/plain": [
       "array([[5.1, 3.5, 1.4, 0.2],\n",
       "       [4.9, 3. , 1.4, 0.2]])"
      ]
     },
     "execution_count": 88,
     "metadata": {},
     "output_type": "execute_result"
    }
   ],
   "source": [
    "irisNP = np.loadtxt(filename, delimiter = ',', usecols = [0, 1, 2, 3], skiprows = 1)\n",
    "irisNP[:2]"
   ]
  },
  {
   "cell_type": "code",
   "execution_count": 89,
   "metadata": {},
   "outputs": [
    {
     "data": {
      "text/plain": [
       "(pandas.core.frame.DataFrame, numpy.ndarray, 'DataFrame', 'ndarray')"
      ]
     },
     "execution_count": 89,
     "metadata": {},
     "output_type": "execute_result"
    }
   ],
   "source": [
    "## 데이터의 타입 체크\n",
    "type(irisDF), type(irisNP), irisDF.__class__.__name__, irisNP.__class__.__name__"
   ]
  },
  {
   "cell_type": "code",
   "execution_count": 90,
   "metadata": {},
   "outputs": [
    {
     "data": {
      "text/plain": [
       "(True, False, True)"
      ]
     },
     "execution_count": 90,
     "metadata": {},
     "output_type": "execute_result"
    }
   ],
   "source": [
    "isinstance(irisDF, pd.DataFrame), isinstance(irisNP, pd.DataFrame), isinstance(irisNP, np.ndarray)"
   ]
  },
  {
   "cell_type": "code",
   "execution_count": 95,
   "metadata": {},
   "outputs": [],
   "source": [
    "# 사용자 정의 DataSet 클래스\n",
    "class DLDataset(Dataset):\n",
    "\n",
    "    # 초기화 콜백 함수(callback function)\n",
    "    def __init__(self, x_data, y_data):\n",
    "        super().__init__()\n",
    "        x_data = x_data.values if isinstance(x_data, pd.DataFrame) else x_data\n",
    "        y_data = y_data.values if isinstance(y_data, pd.DataFrame) else y_data\n",
    "        self.feature = torch.tensor(x_data)\n",
    "        self.target = torch.tensor(y_data)\n",
    "\n",
    "        # ndarray => tensor\n",
    "        self.feature = torch.FloatTensor(x_data)\n",
    "        self.target = torch.FloatTensor(y_data)\n",
    "    \n",
    "    # 데이터셋의 개수 체크 콜백 함수(callback function)\n",
    "    def __len__(self):\n",
    "        return self.target.shape[0]\n",
    "    \n",
    "    # 특정 인덱스 데이터 + 라벨 반환 콜백 함수(callback function)\n",
    "    def __getitem__(self, index):\n",
    "        return self.feature[index], self.target[index]"
   ]
  },
  {
   "cell_type": "code",
   "execution_count": 96,
   "metadata": {},
   "outputs": [
    {
     "name": "stdout",
     "output_type": "stream",
     "text": [
      "featureDF => (150, 4), 2D\n",
      "targerSR => (150,), 1D\n"
     ]
    }
   ],
   "source": [
    "# 피처와 라벨 분리\n",
    "featureDF = irisDF[irisDF.columns[:-1]]\n",
    "targetSR = irisDF[irisDF.columns[-1]]\n",
    "\n",
    "print(f'featureDF => {featureDF.shape}, {featureDF.ndim}D')\n",
    "print(f'targerSR => {targetSR.shape}, {targetSR.ndim}D')"
   ]
  },
  {
   "cell_type": "code",
   "execution_count": 97,
   "metadata": {},
   "outputs": [
    {
     "name": "stdout",
     "output_type": "stream",
     "text": [
      "(150, 1) 2\n"
     ]
    }
   ],
   "source": [
    "# 타겟이 object이므로 정수로 변환\n",
    "from sklearn.preprocessing import LabelEncoder\n",
    "\n",
    "targetNP = LabelEncoder().fit_transform(targetSR)\n",
    "targetNP = targetNP.reshape(-1, 1)\n",
    "print(targetNP.shape, targetNP.ndim)"
   ]
  },
  {
   "cell_type": "code",
   "execution_count": 98,
   "metadata": {},
   "outputs": [
    {
     "data": {
      "text/plain": [
       "(tensor([5.1000, 3.5000, 1.4000, 0.2000]), tensor([0.]))"
      ]
     },
     "execution_count": 98,
     "metadata": {},
     "output_type": "execute_result"
    }
   ],
   "source": [
    "# 데이터셋 생성 => DF, NP\n",
    "my_dataset = DLDataset(featureDF, targetNP)\n",
    "my_dataset[0]"
   ]
  },
  {
   "cell_type": "code",
   "execution_count": 99,
   "metadata": {},
   "outputs": [
    {
     "data": {
      "text/plain": [
       "(tensor([5.1000, 3.5000, 1.4000, 0.2000]), tensor([0.]))"
      ]
     },
     "execution_count": 99,
     "metadata": {},
     "output_type": "execute_result"
    }
   ],
   "source": [
    "# 데이터셋 생성 => NP, NP\n",
    "my_dataset2 = DLDataset(irisNP, targetNP)\n",
    "my_dataset2[0]"
   ]
  },
  {
   "cell_type": "markdown",
   "metadata": {},
   "source": [
    "[2-3] 학습용, 검증용, 테스트용 Dataset"
   ]
  },
  {
   "cell_type": "code",
   "execution_count": 100,
   "metadata": {},
   "outputs": [
    {
     "name": "stdout",
     "output_type": "stream",
     "text": [
      "trainDS =>105개, validDS => 15개, testDS => 30개\n",
      "Subset 속성 =>\n",
      "indices : [42, 95, 30, 64, 52, 35, 130, 40, 82, 17, 108, 94, 68, 97, 117, 127, 41, 44, 57, 140, 149, 32, 23, 102, 16, 113, 71, 18, 67, 66, 0, 25, 101, 112, 91, 3, 59, 116, 86, 84, 106, 142, 43, 39, 26, 98, 93, 20, 87, 19, 120, 114, 7, 63, 76, 89, 36, 45, 37, 56, 58, 122, 51, 145, 24, 21, 105, 62, 15, 11, 48, 133, 88, 50, 6, 134, 111, 8, 49, 75, 69, 124, 4, 147, 80, 100, 99, 141, 47, 107, 13, 109, 129, 28, 38, 53, 121, 5, 55, 31, 73, 74, 54, 29, 12] \n",
      "indices : <__main__.DLDataset object at 0x0000019FB08CC1C0>\n",
      "Subset 속성 =>\n",
      "indices : [22, 104, 81, 1, 103, 125, 85, 2, 96, 128, 27, 118, 77, 110, 146] \n",
      "indices : <__main__.DLDataset object at 0x0000019FB08CC1C0>\n",
      "Subset 속성 =>\n",
      "indices : [72, 139, 131, 60, 65, 92, 135, 83, 14, 34, 137, 10, 119, 9, 148, 79, 78, 70, 144, 143, 123, 115, 61, 132, 90, 46, 126, 136, 33, 138] \n",
      "indices : <__main__.DLDataset object at 0x0000019FB08CC1C0>\n"
     ]
    }
   ],
   "source": [
    "# 파이토치\n",
    "from torch.utils.data import random_split\n",
    "\n",
    "# 학습용, 검증용, 테스트 데이터 비율\n",
    "seed = torch.Generator().manual_seed(42)\n",
    "\n",
    "trainDS, validDS, testDS = random_split(my_dataset2, [0.7, 0.1, 0.2], generator = seed)\n",
    "\n",
    "print(f'trainDS =>{len(trainDS)}개, validDS => {len(validDS)}개, testDS => {len(testDS)}개')\n",
    "\n",
    "print(f'Subset 속성 =>\\nindices : {trainDS.indices} \\nindices : {trainDS.dataset}')\n",
    "print(f'Subset 속성 =>\\nindices : {validDS.indices} \\nindices : {validDS.dataset}')\n",
    "print(f'Subset 속성 =>\\nindices : {testDS.indices} \\nindices : {testDS.dataset}')"
   ]
  },
  {
   "cell_type": "markdown",
   "metadata": {},
   "source": [
    "[3] DataLoader 생성 : 학습용, 검증용, 테스트용"
   ]
  },
  {
   "cell_type": "code",
   "execution_count": 101,
   "metadata": {},
   "outputs": [
    {
     "data": {
      "text/plain": [
       "(10, 2, 3)"
      ]
     },
     "execution_count": 101,
     "metadata": {},
     "output_type": "execute_result"
    }
   ],
   "source": [
    "# DataLoader 생성\n",
    "# drop_last 매개변수 : 배치 사이즈로 데이터셋 분리 후 남는 데이터 처리 방법 설정 [기본 : False]\n",
    "batch = 10\n",
    "trainDL = DataLoader(trainDS, batch_size = batch, drop_last = True)\n",
    "validDL = DataLoader(validDS, batch_size = batch)\n",
    "testDL = DataLoader(testDS, batch_size = batch)\n",
    "\n",
    "len(trainDL), len(validDL), len(testDL)"
   ]
  },
  {
   "cell_type": "code",
   "execution_count": 102,
   "metadata": {},
   "outputs": [
    {
     "name": "stdout",
     "output_type": "stream",
     "text": [
      "batch_size = 10\n",
      "trainDS => 105개, validDS => 15개, testDS => 30개\n",
      "trainDL => 10개, validDL => 2개, testDL => 3개\n"
     ]
    }
   ],
   "source": [
    "# Epoch당 반복 단위\n",
    "print(f'batch_size = {batch}')\n",
    "print(f'trainDS => {len(trainDS)}개, validDS => {len(validDS)}개, testDS => {len(testDS)}개')\n",
    "print(f'trainDL => {len(trainDL)}개, validDL => {len(validDL)}개, testDL => {len(testDL)}개')"
   ]
  },
  {
   "cell_type": "code",
   "execution_count": 103,
   "metadata": {},
   "outputs": [
    {
     "data": {
      "text/plain": [
       "(10, 2, 3)"
      ]
     },
     "execution_count": 103,
     "metadata": {},
     "output_type": "execute_result"
    }
   ],
   "source": [
    "batch = 10\n",
    "trainDL = DataLoader(trainDS, batch_size = batch, drop_last = True)\n",
    "validDL = DataLoader(validDS, batch_size = batch)\n",
    "testDL = DataLoader(testDS, batch_size = batch)\n",
    "\n",
    "len(trainDL), len(validDL), len(testDL)"
   ]
  },
  {
   "cell_type": "code",
   "execution_count": 104,
   "metadata": {},
   "outputs": [
    {
     "name": "stdout",
     "output_type": "stream",
     "text": [
      "[0] feature tensor([[4.6000, 3.6000, 1.0000, 0.2000],\n",
      "        [6.5000, 3.0000, 5.8000, 2.2000],\n",
      "        [5.5000, 2.4000, 3.7000, 1.0000],\n",
      "        [4.9000, 3.0000, 1.4000, 0.2000],\n",
      "        [6.3000, 2.9000, 5.6000, 1.8000],\n",
      "        [7.2000, 3.2000, 6.0000, 1.8000],\n",
      "        [6.0000, 3.4000, 4.5000, 1.6000],\n",
      "        [4.7000, 3.2000, 1.3000, 0.2000],\n",
      "        [5.7000, 2.9000, 4.2000, 1.3000],\n",
      "        [6.4000, 2.8000, 5.6000, 2.1000]])\n",
      "[1] feature tensor([[5.2000, 3.5000, 1.5000, 0.2000],\n",
      "        [7.7000, 2.6000, 6.9000, 2.3000],\n",
      "        [6.7000, 3.0000, 5.0000, 1.7000],\n",
      "        [6.5000, 3.2000, 5.1000, 2.0000],\n",
      "        [6.3000, 2.5000, 5.0000, 1.9000]])\n"
     ]
    }
   ],
   "source": [
    "# DataLoader 속성\n",
    "for _, (feature, target) in enumerate(validDL):\n",
    "    print(f'[{_}] feature {feature}')"
   ]
  }
 ],
 "metadata": {
  "kernelspec": {
   "display_name": "Torch_PY38",
   "language": "python",
   "name": "python3"
  },
  "language_info": {
   "codemirror_mode": {
    "name": "ipython",
    "version": 3
   },
   "file_extension": ".py",
   "mimetype": "text/x-python",
   "name": "python",
   "nbconvert_exporter": "python",
   "pygments_lexer": "ipython3",
   "version": "3.8.18"
  }
 },
 "nbformat": 4,
 "nbformat_minor": 2
}

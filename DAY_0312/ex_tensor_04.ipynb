{
 "cells": [
  {
   "cell_type": "markdown",
   "metadata": {},
   "source": [
    "### Tensor shape 변경\n",
    "- reshape(), view() : 원소 개수가 유지되고 기존의 텐서를 공유한다."
   ]
  },
  {
   "cell_type": "code",
   "execution_count": 79,
   "metadata": {},
   "outputs": [],
   "source": [
    "# 모듈 로딩\n",
    "import torch"
   ]
  },
  {
   "cell_type": "code",
   "execution_count": 80,
   "metadata": {},
   "outputs": [
    {
     "name": "stdout",
     "output_type": "stream",
     "text": [
      "torch.Size([2, 3]) 2\n"
     ]
    }
   ],
   "source": [
    "# 텐서 데이터 생성\n",
    "t1 = torch.tensor([[1, 2, 3], [4, 5, 6]])\n",
    "print(t1.shape, t1.ndim)"
   ]
  },
  {
   "cell_type": "code",
   "execution_count": 81,
   "metadata": {},
   "outputs": [
    {
     "data": {
      "text/plain": [
       "tensor([[1, 2],\n",
       "        [3, 4],\n",
       "        [5, 6]])"
      ]
     },
     "execution_count": 81,
     "metadata": {},
     "output_type": "execute_result"
    }
   ],
   "source": [
    "# [2, 3] ===> [3, 2] 형태 변경 : 원소 동일 6개\n",
    "t1.view(3, 2)"
   ]
  },
  {
   "cell_type": "code",
   "execution_count": 82,
   "metadata": {},
   "outputs": [
    {
     "data": {
      "text/plain": [
       "tensor([[1],\n",
       "        [2],\n",
       "        [3],\n",
       "        [4],\n",
       "        [5],\n",
       "        [6]])"
      ]
     },
     "execution_count": 82,
     "metadata": {},
     "output_type": "execute_result"
    }
   ],
   "source": [
    "# [2, 3] ===> [6, 1] 형태 변경 : 원소 동일 6개\n",
    "# 다음 결과는 같다.\n",
    "t1.view(6, 1)\n",
    "t1.view(-1, 1)  # -1 : 행 또는 열 개수 고정 후 나머지"
   ]
  },
  {
   "cell_type": "code",
   "execution_count": 83,
   "metadata": {},
   "outputs": [
    {
     "data": {
      "text/plain": [
       "tensor([[1, 2, 3],\n",
       "        [4, 5, 6]])"
      ]
     },
     "execution_count": 83,
     "metadata": {},
     "output_type": "execute_result"
    }
   ],
   "source": [
    "# tensor.reshape()\n",
    "t1.reshape(-1, 3)"
   ]
  },
  {
   "cell_type": "code",
   "execution_count": 84,
   "metadata": {},
   "outputs": [],
   "source": [
    "# 원소 수 유지되어야 함!\n",
    "# RuntimeError : shape '[-1, 7]' is invalid for input of size 6\n",
    "# t1.reshape(-1, 7)"
   ]
  },
  {
   "cell_type": "markdown",
   "metadata": {},
   "source": [
    "- 전치 : 열 <-> 형 변경"
   ]
  },
  {
   "cell_type": "code",
   "execution_count": 85,
   "metadata": {},
   "outputs": [
    {
     "name": "stdout",
     "output_type": "stream",
     "text": [
      "torch.Size([2, 3])\n",
      "torch.Size([3, 2]) <built-in method is_contiguous of Tensor object at 0x000002D382E364F0>\n"
     ]
    }
   ],
   "source": [
    "print(t1.shape)\n",
    "t2 = t1.T\n",
    "print(t2.shape, t2.is_contiguous)"
   ]
  },
  {
   "cell_type": "code",
   "execution_count": 86,
   "metadata": {},
   "outputs": [
    {
     "ename": "RuntimeError",
     "evalue": "view size is not compatible with input tensor's size and stride (at least one dimension spans across two contiguous subspaces). Use .reshape(...) instead.",
     "output_type": "error",
     "traceback": [
      "\u001b[1;31m---------------------------------------------------------------------------\u001b[0m",
      "\u001b[1;31mRuntimeError\u001b[0m                              Traceback (most recent call last)",
      "Cell \u001b[1;32mIn[86], line 2\u001b[0m\n\u001b[0;32m      1\u001b[0m \u001b[38;5;66;03m# RuntimeError : view size is not compatible with input tensor's size and stride\u001b[39;00m\n\u001b[1;32m----> 2\u001b[0m \u001b[43mt2\u001b[49m\u001b[38;5;241;43m.\u001b[39;49m\u001b[43mview\u001b[49m\u001b[43m(\u001b[49m\u001b[38;5;241;43m-\u001b[39;49m\u001b[38;5;241;43m1\u001b[39;49m\u001b[43m,\u001b[49m\u001b[43m \u001b[49m\u001b[38;5;241;43m6\u001b[39;49m\u001b[43m)\u001b[49m\n",
      "\u001b[1;31mRuntimeError\u001b[0m: view size is not compatible with input tensor's size and stride (at least one dimension spans across two contiguous subspaces). Use .reshape(...) instead."
     ]
    }
   ],
   "source": [
    "# RuntimeError : view size is not compatible with input tensor's size and stride\n",
    "t2.view(-1, 6)"
   ]
  },
  {
   "cell_type": "code",
   "execution_count": null,
   "metadata": {},
   "outputs": [
    {
     "data": {
      "text/plain": [
       "tensor([[1, 4, 2, 5, 3, 6]])"
      ]
     },
     "execution_count": 57,
     "metadata": {},
     "output_type": "execute_result"
    }
   ],
   "source": [
    "t2.reshape(-1, 6)"
   ]
  },
  {
   "cell_type": "markdown",
   "metadata": {},
   "source": [
    "### 텐서 데이터의 메모리 저장 정보 즉 메타데이터\n",
    "- 현재 저장 형태, 검색 방향 정보, 시작 정보"
   ]
  },
  {
   "cell_type": "code",
   "execution_count": null,
   "metadata": {},
   "outputs": [
    {
     "name": "stdout",
     "output_type": "stream",
     "text": [
      "torch.Size([2, 3]) 2\n",
      "t1.storage() =>  1\n",
      " 2\n",
      " 3\n",
      " 4\n",
      " 5\n",
      " 6\n",
      "[torch.storage.TypedStorage(dtype=torch.int64, device=cpu) of size 6]\n",
      "t1.storage_offset() => 0\n",
      "t1.stride() => (3, 1)\n",
      "t1.stride() => True\n"
     ]
    }
   ],
   "source": [
    "t1 = torch.tensor([[1, 2, 3], [4, 5, 6]])\n",
    "print(t1.shape, t1.ndim)\n",
    "print(f't1.storage() => {t1.storage()}')\n",
    "print(f't1.storage_offset() => {t1.storage_offset()}')\n",
    "print(f't1.stride() => {t1.stride()}')\n",
    "print(f't1.stride() => {t1.is_contiguous()}')"
   ]
  },
  {
   "cell_type": "code",
   "execution_count": null,
   "metadata": {},
   "outputs": [
    {
     "name": "stdout",
     "output_type": "stream",
     "text": [
      "torch.Size([3, 2]) 2\n",
      "t2.storage() =>  1\n",
      " 2\n",
      " 3\n",
      " 4\n",
      " 5\n",
      " 6\n",
      "[torch.storage.TypedStorage(dtype=torch.int64, device=cpu) of size 6]\n",
      "t2.storage_offset() => 0\n",
      "t2.stride() => (2, 1)\n",
      "t2.stride() => True\n"
     ]
    }
   ],
   "source": [
    "t2 = t1.view(-1, 2)\n",
    "print(t2.shape, t2.ndim)\n",
    "print(f't2.storage() => {t2.storage()}')\n",
    "print(f't2.storage_offset() => {t2.storage_offset()}')\n",
    "print(f't2.stride() => {t2.stride()}')\n",
    "print(f't2.stride() => {t2.is_contiguous()}')"
   ]
  },
  {
   "cell_type": "markdown",
   "metadata": {},
   "source": [
    "### 차원 제거/추가\n",
    "- tensor.squeeze() : 텐서에서 차원이 1인 것 제거\n",
    "- tensor.unsqueeze(dim) : 텐서에 차원 1인 것 추가"
   ]
  },
  {
   "cell_type": "code",
   "execution_count": null,
   "metadata": {},
   "outputs": [],
   "source": [
    "# 데이터 생성\n",
    "t1 = torch.tensor([[1, 2,], [3, 4]])\n",
    "t2 = torch.tensor([[1, 2, 3, 4]])\n",
    "t3 = torch.tensor([[[1, 2, 3, 4]]])"
   ]
  },
  {
   "cell_type": "code",
   "execution_count": null,
   "metadata": {},
   "outputs": [
    {
     "name": "stdout",
     "output_type": "stream",
     "text": [
      "t1 => torch.Size([2, 2]) 2D\n",
      "t2 => torch.Size([1, 4]) 2D\n",
      "t3 => torch.Size([1, 1, 4]) 3D\n"
     ]
    }
   ],
   "source": [
    "print(f't1 => {t1.shape} {t1.ndim}D')\n",
    "print(f't2 => {t2.shape} {t2.ndim}D')\n",
    "print(f't3 => {t3.shape} {t3.ndim}D')"
   ]
  },
  {
   "cell_type": "code",
   "execution_count": null,
   "metadata": {},
   "outputs": [
    {
     "name": "stdout",
     "output_type": "stream",
     "text": [
      "t1 차원 축소 => torch.Size([2, 3]) 2D\n",
      "t2 차원 축소 => torch.Size([3, 2]) 2D\n",
      "t3 차원 축소 => torch.Size([4]) 1D\n",
      "t3 차원 축소 => torch.Size([1, 4]) 2D\n"
     ]
    }
   ],
   "source": [
    "t11 = t1.squeeze()\n",
    "t22 = t2.squeeze()\n",
    "t33 = t3.squeeze()\n",
    "t44 = t3.squeeze(dim = 0)  # dim에 배정된 차원만 삭제 => 참고) (데이터수[0], 채널[1], 행[2], 열[3])\n",
    "print(f't1 차원 축소 => {t11.shape} {t11.ndim}D')\n",
    "print(f't2 차원 축소 => {t22.shape} {t22.ndim}D')\n",
    "print(f't3 차원 축소 => {t33.shape} {t33.ndim}D')\n",
    "print(f't3 차원 축소 => {t44.shape} {t44.ndim}D')"
   ]
  },
  {
   "cell_type": "code",
   "execution_count": null,
   "metadata": {},
   "outputs": [
    {
     "name": "stdout",
     "output_type": "stream",
     "text": [
      "t1 정보 => torch.Size([2, 3]), 2D, 4661574637440, (3, 1)\n"
     ]
    }
   ],
   "source": [
    "print(f't1 정보 => {t1.shape}, {t1.ndim}D, {t1.data_ptr()}, {t1.stride()}')"
   ]
  },
  {
   "cell_type": "code",
   "execution_count": 87,
   "metadata": {},
   "outputs": [
    {
     "name": "stdout",
     "output_type": "stream",
     "text": [
      "t1 차원 추가 => torch.Size([1, 2, 3]), 3D, 4661574637568, (6, 3, 1)\n",
      "t2 차원 추가 => torch.Size([3, 2, 1]), 3D, 4661574637568, (1, 3, 1)\n"
     ]
    }
   ],
   "source": [
    "# 원소/요소 수 변경 없이 1차원 증가 시키기 => torch.unsqueeze(dim)\n",
    "t11 = t1.unsqueeze(dim = 0)\n",
    "t22 = t2.unsqueeze(dim = -1)  # dim = 2와 동일\n",
    "\n",
    "print(f't1 차원 추가 => {t11.shape}, {t11.ndim}D, {t11.data_ptr()}, {t11.stride()}')\n",
    "print(f't2 차원 추가 => {t22.shape}, {t22.ndim}D, {t22.data_ptr()}, {t22.stride()}')"
   ]
  },
  {
   "cell_type": "code",
   "execution_count": null,
   "metadata": {},
   "outputs": [
    {
     "data": {
      "text/plain": [
       "(torch.Size([2, 2]), torch.Size([1, 2, 2]))"
      ]
     },
     "execution_count": 65,
     "metadata": {},
     "output_type": "execute_result"
    }
   ],
   "source": [
    "# None => 차원 추가\n",
    "t1.shape, t1[None].shape"
   ]
  },
  {
   "cell_type": "markdown",
   "metadata": {},
   "source": [
    "## Tensor 차원/형태 변경"
   ]
  },
  {
   "cell_type": "code",
   "execution_count": null,
   "metadata": {},
   "outputs": [
    {
     "name": "stdout",
     "output_type": "stream",
     "text": [
      "t1 => torch.Size([1, 3, 2]), 3D\n"
     ]
    }
   ],
   "source": [
    "t1 = torch.tensor([[[1, 2], [11, 22], [44, 55]]])\n",
    "print(f't1 => {t1.shape}, {t1.ndim}D')"
   ]
  },
  {
   "cell_type": "code",
   "execution_count": null,
   "metadata": {},
   "outputs": [
    {
     "name": "stdout",
     "output_type": "stream",
     "text": [
      "t2 => torch.Size([2, 3, 1]), 3D\n"
     ]
    }
   ],
   "source": [
    "# 2개의 차원을 변경하는 메서드\n",
    "t2 = t1.transpose(0, 2)\n",
    "print(f't2 => {t2.shape}, {t2.ndim}D')"
   ]
  },
  {
   "cell_type": "code",
   "execution_count": null,
   "metadata": {},
   "outputs": [
    {
     "name": "stdout",
     "output_type": "stream",
     "text": [
      "t2 => torch.Size([3, 2, 1]), 3D\n"
     ]
    }
   ],
   "source": [
    "# 모든 차원을 변경하는 메서드\n",
    "t22 = t1.permute(1, 2, 0)\n",
    "print(f't2 => {t22.shape}, {t22.ndim}D')"
   ]
  },
  {
   "cell_type": "code",
   "execution_count": 88,
   "metadata": {},
   "outputs": [
    {
     "name": "stdout",
     "output_type": "stream",
     "text": [
      "torch.int64 tensor([1, 2, 3, 4])\n",
      "torch.float32\n",
      "torch.int8\n",
      "torch.float64\n",
      "torch.bool\n"
     ]
    }
   ],
   "source": [
    "# Tensor객체변수명.타입명()\n",
    "lt = torch.LongTensor([1, 2, 3, 4])\n",
    "print(lt.dtype, lt)       # int\n",
    "print(lt.float().dtype)   # flaot 타입으로 형변환\n",
    "print(lt.char().dtype)    # char 타입으로 형변환\n",
    "print(lt.double().dtype)  # double 타입으로 형변환\n",
    "print(lt.bool().dtype)    # bool 타입으로 형변환"
   ]
  },
  {
   "cell_type": "code",
   "execution_count": 90,
   "metadata": {},
   "outputs": [
    {
     "name": "stdout",
     "output_type": "stream",
     "text": [
      "torch.int64 tensor([1, 2, 3, 4])\n",
      "tensor([1., 2., 3., 4.])\n",
      "tensor([1, 2, 3, 4], dtype=torch.int8)\n",
      "tensor([1., 2., 3., 4.], dtype=torch.float64)\n",
      "tensor([True, True, True, True])\n"
     ]
    }
   ],
   "source": [
    "# Tensor객체변수명.type(torch.xxx)\n",
    "lt = torch.LongTensor([1, 2, 3, 4])\n",
    "print(lt.dtype, lt)\n",
    "print(lt.type(torch.float32))      # float 타입으로 형변환\n",
    "print(lt.type(torch.int8))         # char 타입으로 형변환\n",
    "print(lt.type(torch.double))       # double 타입으로 형변환\n",
    "print(lt.type(torch.bool))         # bool 타입으로 형변환"
   ]
  }
 ],
 "metadata": {
  "kernelspec": {
   "display_name": "Torch_PY38",
   "language": "python",
   "name": "python3"
  },
  "language_info": {
   "codemirror_mode": {
    "name": "ipython",
    "version": 3
   },
   "file_extension": ".py",
   "mimetype": "text/x-python",
   "name": "python",
   "nbconvert_exporter": "python",
   "pygments_lexer": "ipython3",
   "version": "3.8.18"
  }
 },
 "nbformat": 4,
 "nbformat_minor": 2
}

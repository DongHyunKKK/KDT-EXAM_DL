{
 "cells": [
  {
   "cell_type": "markdown",
   "metadata": {},
   "source": [
    "### 텐서(Tensor) 살펴보기\n",
    "- Pytorch에서 데이터 저장 자료형\n",
    "- 모델 입력(input), 출력(output) 데이터 형태"
   ]
  },
  {
   "cell_type": "markdown",
   "metadata": {},
   "source": [
    "- 모듈 로딩"
   ]
  },
  {
   "cell_type": "code",
   "execution_count": 122,
   "metadata": {},
   "outputs": [],
   "source": [
    "import torch"
   ]
  },
  {
   "cell_type": "markdown",
   "metadata": {},
   "source": [
    "- Tensor 속성 관련 함수"
   ]
  },
  {
   "cell_type": "code",
   "execution_count": 123,
   "metadata": {},
   "outputs": [],
   "source": [
    "# 매개변수 : 텐서 인스턴스, 텐서 변수명 \n",
    "def print_attribute(tensor, name):\n",
    "    print(f'[ Tensor {name}\\'s Attribute ]')\n",
    "    print(f'- tensor.shape : {tensor.shape}')\n",
    "    print(f'- tensor.ndim : {tensor.ndim}D')\n",
    "    print(f'- tensor.dtype : {tensor.dtype}')\n",
    "    print(f'- tensor.device : {tensor.device}')\n",
    "    print(f'- tensor.requires_grad : {tensor.requires_grad}')\n",
    "    print(f'- tensor.data \\n{tensor.data}')"
   ]
  },
  {
   "cell_type": "markdown",
   "metadata": {},
   "source": [
    "- Tensor 생성 (1) 특정 데이터 타입의 텐서 생성\n",
    "    * 타입별 텐서 클래스 생성자 활용\n",
    "    * 예) IntTensor(), FloatTensor(), BoolTensor()"
   ]
  },
  {
   "cell_type": "code",
   "execution_count": 155,
   "metadata": {},
   "outputs": [],
   "source": [
    "# 정수 타입 텐서 생성 => 실수를 넣어도 정수로 자동 변환되나 데이터 손실 발생할 수 있다.\n",
    "t1 = torch.IntTensor([10])\n",
    "t2 = torch.IntTensor([10, 20])\n",
    "\n",
    "# 부울 타입 텐서 생성 => 부울로 자동 변환\n",
    "t3 = torch.BoolTensor([1, 1, 0, -1])\n",
    "\n",
    "# 실수 타입 텐서 생성 => 정수를 넣어도 실수로 자동 변환\n",
    "t4 = torch.FloatTensor([10, 20])"
   ]
  },
  {
   "cell_type": "code",
   "execution_count": 156,
   "metadata": {},
   "outputs": [
    {
     "name": "stdout",
     "output_type": "stream",
     "text": [
      "[ Tensor t1's Attribute ]\n",
      "- tensor.shape : torch.Size([1])\n",
      "- tensor.ndim : 1D\n",
      "- tensor.dtype : torch.int32\n",
      "- tensor.device : cpu\n",
      "- tensor.requires_grad : False\n",
      "- tensor.data \n",
      "tensor([10], dtype=torch.int32)\n",
      "[ Tensor t2's Attribute ]\n",
      "- tensor.shape : torch.Size([2])\n",
      "- tensor.ndim : 1D\n",
      "- tensor.dtype : torch.int32\n",
      "- tensor.device : cpu\n",
      "- tensor.requires_grad : False\n",
      "- tensor.data \n",
      "tensor([10, 20], dtype=torch.int32)\n",
      "[ Tensor t3's Attribute ]\n",
      "- tensor.shape : torch.Size([4])\n",
      "- tensor.ndim : 1D\n",
      "- tensor.dtype : torch.bool\n",
      "- tensor.device : cpu\n",
      "- tensor.requires_grad : False\n",
      "- tensor.data \n",
      "tensor([ True,  True, False,  True])\n",
      "[ Tensor t4's Attribute ]\n",
      "- tensor.shape : torch.Size([2])\n",
      "- tensor.ndim : 1D\n",
      "- tensor.dtype : torch.float32\n",
      "- tensor.device : cpu\n",
      "- tensor.requires_grad : False\n",
      "- tensor.data \n",
      "tensor([10., 20.])\n"
     ]
    }
   ],
   "source": [
    "print_attribute(t1, 't1')\n",
    "print_attribute(t2, 't2')\n",
    "print_attribute(t3, 't3')\n",
    "print_attribute(t4, 't4')"
   ]
  },
  {
   "cell_type": "markdown",
   "metadata": {},
   "source": [
    "- Tensor 생성 (2) 원하는 값으로 텐서 생성 => torch.tensor()"
   ]
  },
  {
   "cell_type": "code",
   "execution_count": 157,
   "metadata": {},
   "outputs": [],
   "source": [
    "t1 = torch.tensor(10)  # scalar 데이터, int64\n",
    "t2 = torch.tensor(10.)  # scalar 데이터, float32"
   ]
  },
  {
   "cell_type": "code",
   "execution_count": 158,
   "metadata": {},
   "outputs": [
    {
     "name": "stdout",
     "output_type": "stream",
     "text": [
      "[ Tensor t1's Attribute ]\n",
      "- tensor.shape : torch.Size([])\n",
      "- tensor.ndim : 0D\n",
      "- tensor.dtype : torch.int64\n",
      "- tensor.device : cpu\n",
      "- tensor.requires_grad : False\n",
      "- tensor.data \n",
      "10\n",
      "[ Tensor t2's Attribute ]\n",
      "- tensor.shape : torch.Size([])\n",
      "- tensor.ndim : 0D\n",
      "- tensor.dtype : torch.float32\n",
      "- tensor.device : cpu\n",
      "- tensor.requires_grad : False\n",
      "- tensor.data \n",
      "10.0\n"
     ]
    }
   ],
   "source": [
    "print_attribute(t1, 't1')\n",
    "print_attribute(t2, 't2')"
   ]
  },
  {
   "cell_type": "code",
   "execution_count": 128,
   "metadata": {},
   "outputs": [
    {
     "name": "stdout",
     "output_type": "stream",
     "text": [
      "[ Tensor t1's Attribute ]\n",
      "- tensor.shape : torch.Size([])\n",
      "- tensor.ndim : 0D\n",
      "- tensor.dtype : torch.int32\n",
      "- tensor.device : cpu\n",
      "- tensor.requires_grad : False\n",
      "- tensor.data \n",
      "10\n"
     ]
    },
    {
     "name": "stderr",
     "output_type": "stream",
     "text": [
      "C:\\Users\\user\\AppData\\Local\\Temp\\ipykernel_6716\\1966216171.py:2: DeprecationWarning: an integer is required (got type float).  Implicit conversion to integers using __int__ is deprecated, and may be removed in a future version of Python.\n",
      "  t1 = torch.tensor(10., dtype = torch.int32)  # scalar 데이터, int32\n"
     ]
    }
   ],
   "source": [
    "# dtype 매개변수에 원하는 데이터 타입을 지정할 수 있다.\n",
    "t1 = torch.tensor(10., dtype = torch.int32)  # scalar 데이터, int32\n",
    "print_attribute(t1, 't1')"
   ]
  },
  {
   "cell_type": "code",
   "execution_count": 129,
   "metadata": {},
   "outputs": [
    {
     "name": "stdout",
     "output_type": "stream",
     "text": [
      "[ Tensor t1's Attribute ]\n",
      "- tensor.shape : torch.Size([])\n",
      "- tensor.ndim : 0D\n",
      "- tensor.dtype : torch.bool\n",
      "- tensor.device : cpu\n",
      "- tensor.requires_grad : False\n",
      "- tensor.data \n",
      "True\n"
     ]
    }
   ],
   "source": [
    "t1 = torch.tensor(10., dtype = bool)  # scalar 데이터, bool\n",
    "print_attribute(t1, 't1')"
   ]
  },
  {
   "cell_type": "code",
   "execution_count": 130,
   "metadata": {},
   "outputs": [
    {
     "name": "stdout",
     "output_type": "stream",
     "text": [
      "[ Tensor t1's Attribute ]\n",
      "- tensor.shape : torch.Size([3])\n",
      "- tensor.ndim : 1D\n",
      "- tensor.dtype : torch.int8\n",
      "- tensor.device : cpu\n",
      "- tensor.requires_grad : False\n",
      "- tensor.data \n",
      "tensor([1, 2, 3], dtype=torch.int8)\n"
     ]
    }
   ],
   "source": [
    "t1 = torch.tensor([1, 2, 3], dtype = torch.int8)  # 1D 데이터\n",
    "print_attribute(t1, 't1')"
   ]
  },
  {
   "cell_type": "code",
   "execution_count": 131,
   "metadata": {},
   "outputs": [
    {
     "name": "stdout",
     "output_type": "stream",
     "text": [
      "[ Tensor t1's Attribute ]\n",
      "- tensor.shape : torch.Size([1, 3])\n",
      "- tensor.ndim : 2D\n",
      "- tensor.dtype : torch.int8\n",
      "- tensor.device : cpu\n",
      "- tensor.requires_grad : False\n",
      "- tensor.data \n",
      "tensor([[1, 2, 3]], dtype=torch.int8)\n"
     ]
    }
   ],
   "source": [
    "t1 = torch.tensor([[1, 2, 3]], dtype = torch.int8)  # 2D 데이터\n",
    "print_attribute(t1, 't1')"
   ]
  },
  {
   "cell_type": "markdown",
   "metadata": {},
   "source": [
    "- Tensor 생성 (3) 특정 값으로 채운 텐서 => 0, 1 등의 값"
   ]
  },
  {
   "cell_type": "code",
   "execution_count": 132,
   "metadata": {},
   "outputs": [
    {
     "name": "stdout",
     "output_type": "stream",
     "text": [
      "[ Tensor t1's Attribute ]\n",
      "- tensor.shape : torch.Size([5])\n",
      "- tensor.ndim : 1D\n",
      "- tensor.dtype : torch.float32\n",
      "- tensor.device : cpu\n",
      "- tensor.requires_grad : False\n",
      "- tensor.data \n",
      "tensor([0., 0., 0., 0., 0.])\n"
     ]
    }
   ],
   "source": [
    "# 0으로 채운 텐서\n",
    "t1 = torch.zeros(5)\n",
    "print_attribute(t1, 't1')"
   ]
  },
  {
   "cell_type": "code",
   "execution_count": 133,
   "metadata": {},
   "outputs": [
    {
     "name": "stdout",
     "output_type": "stream",
     "text": [
      "[ Tensor t1's Attribute ]\n",
      "- tensor.shape : torch.Size([5, 5])\n",
      "- tensor.ndim : 2D\n",
      "- tensor.dtype : torch.int8\n",
      "- tensor.device : cpu\n",
      "- tensor.requires_grad : False\n",
      "- tensor.data \n",
      "tensor([[0, 0, 0, 0, 0],\n",
      "        [0, 0, 0, 0, 0],\n",
      "        [0, 0, 0, 0, 0],\n",
      "        [0, 0, 0, 0, 0],\n",
      "        [0, 0, 0, 0, 0]], dtype=torch.int8)\n"
     ]
    }
   ],
   "source": [
    "t1 = torch.zeros((5, 5), dtype = torch.int8)\n",
    "print_attribute(t1, 't1')"
   ]
  },
  {
   "cell_type": "code",
   "execution_count": 134,
   "metadata": {},
   "outputs": [
    {
     "name": "stdout",
     "output_type": "stream",
     "text": [
      "[ Tensor t1's Attribute ]\n",
      "- tensor.shape : torch.Size([2, 4])\n",
      "- tensor.ndim : 2D\n",
      "- tensor.dtype : torch.int8\n",
      "- tensor.device : cpu\n",
      "- tensor.requires_grad : False\n",
      "- tensor.data \n",
      "tensor([[1, 1, 1, 1],\n",
      "        [1, 1, 1, 1]], dtype=torch.int8)\n"
     ]
    }
   ],
   "source": [
    "# 1로 채운 텐서\n",
    "t1 = torch.ones((2, 4), dtype = torch.int8)\n",
    "print_attribute(t1, 't1')"
   ]
  },
  {
   "cell_type": "code",
   "execution_count": 135,
   "metadata": {},
   "outputs": [
    {
     "data": {
      "text/plain": [
       "torch.Size([2, 6])"
      ]
     },
     "execution_count": 135,
     "metadata": {},
     "output_type": "execute_result"
    }
   ],
   "source": [
    "# 이미 존재하는 텐서와 동일한 shape으로 잡고 값 채우기 => zeros_like(), ones_like()\n",
    "img = torch.tensor([[2, 3, 4, 5, 6, 7,], [2, 3, 4, 5, 6, 7]])\n",
    "img.shape"
   ]
  },
  {
   "cell_type": "code",
   "execution_count": 136,
   "metadata": {},
   "outputs": [
    {
     "data": {
      "text/plain": [
       "tensor([[0, 0, 0, 0, 0, 0],\n",
       "        [0, 0, 0, 0, 0, 0]])"
      ]
     },
     "execution_count": 136,
     "metadata": {},
     "output_type": "execute_result"
    }
   ],
   "source": [
    "zero_img = torch.zeros_like(img)\n",
    "zero_img"
   ]
  },
  {
   "cell_type": "code",
   "execution_count": 137,
   "metadata": {},
   "outputs": [
    {
     "data": {
      "text/plain": [
       "tensor([[1, 1, 1, 1, 1, 1],\n",
       "        [1, 1, 1, 1, 1, 1]])"
      ]
     },
     "execution_count": 137,
     "metadata": {},
     "output_type": "execute_result"
    }
   ],
   "source": [
    "one_img = torch.ones_like(img)\n",
    "one_img"
   ]
  },
  {
   "cell_type": "code",
   "execution_count": 138,
   "metadata": {},
   "outputs": [
    {
     "data": {
      "text/plain": [
       "tensor([[7, 7, 7, 7, 7, 7],\n",
       "        [7, 7, 7, 7, 7, 7]])"
      ]
     },
     "execution_count": 138,
     "metadata": {},
     "output_type": "execute_result"
    }
   ],
   "source": [
    "full_img = torch.full_like(img, 7)\n",
    "full_img"
   ]
  },
  {
   "cell_type": "code",
   "execution_count": 139,
   "metadata": {},
   "outputs": [
    {
     "data": {
      "text/plain": [
       "tensor([[1., 0., 0., 0., 0.],\n",
       "        [0., 1., 0., 0., 0.],\n",
       "        [0., 0., 1., 0., 0.],\n",
       "        [0., 0., 0., 1., 0.],\n",
       "        [0., 0., 0., 0., 1.]])"
      ]
     },
     "execution_count": 139,
     "metadata": {},
     "output_type": "execute_result"
    }
   ],
   "source": [
    "# 대각선 방향으로 1채우기 => eye()\n",
    "t1 = torch.eye(5)\n",
    "t1"
   ]
  },
  {
   "cell_type": "markdown",
   "metadata": {},
   "source": [
    " - Tensor 생성 방법 (4) : 임의의 값으로 Tensor 생성 => torch.rand(), torch.randn(), torch.randint()"
   ]
  },
  {
   "cell_type": "code",
   "execution_count": 140,
   "metadata": {},
   "outputs": [],
   "source": [
    "# 랜덤 초기값 설정\n",
    "torch.manual_seed(12)\n",
    "\n",
    "t5 = torch.rand(2, 3)\n",
    "t6 = torch.randn(2, 3)\n",
    "t7 = torch.randint(low = 1, high = 10, size = (2, 3))  # low <= ~ < high"
   ]
  },
  {
   "cell_type": "code",
   "execution_count": 141,
   "metadata": {},
   "outputs": [
    {
     "name": "stdout",
     "output_type": "stream",
     "text": [
      "[ Tensor t5's Attribute ]\n",
      "- tensor.shape : torch.Size([2, 3])\n",
      "- tensor.ndim : 2D\n",
      "- tensor.dtype : torch.float32\n",
      "- tensor.device : cpu\n",
      "- tensor.requires_grad : False\n",
      "- tensor.data \n",
      "tensor([[0.4657, 0.2328, 0.4527],\n",
      "        [0.5871, 0.4086, 0.1272]])\n",
      "[ Tensor t6's Attribute ]\n",
      "- tensor.shape : torch.Size([2, 3])\n",
      "- tensor.ndim : 2D\n",
      "- tensor.dtype : torch.float32\n",
      "- tensor.device : cpu\n",
      "- tensor.requires_grad : False\n",
      "- tensor.data \n",
      "tensor([[ 1.5869,  1.1268, -1.2274],\n",
      "        [-0.8216, -1.7861,  0.6167]])\n",
      "[ Tensor t7's Attribute ]\n",
      "- tensor.shape : torch.Size([2, 3])\n",
      "- tensor.ndim : 2D\n",
      "- tensor.dtype : torch.int64\n",
      "- tensor.device : cpu\n",
      "- tensor.requires_grad : False\n",
      "- tensor.data \n",
      "tensor([[8, 4, 6],\n",
      "        [2, 2, 2]])\n"
     ]
    }
   ],
   "source": [
    "print_attribute(t5, 't5')\n",
    "print_attribute(t6, 't6')\n",
    "print_attribute(t7, 't7')"
   ]
  },
  {
   "cell_type": "markdown",
   "metadata": {},
   "source": [
    " - Tensor 생성 방법 (5) : Ndarray 객체 활용 => torch.from_numpy(), torch.as_tensor(), tensor()"
   ]
  },
  {
   "cell_type": "code",
   "execution_count": 142,
   "metadata": {},
   "outputs": [
    {
     "name": "stdout",
     "output_type": "stream",
     "text": [
      "[11 22 33] <class 'numpy.ndarray'>\n"
     ]
    }
   ],
   "source": [
    "# 데이터 생성\n",
    "import numpy as np\n",
    "\n",
    "data = np.array([11, 22, 33])\n",
    "print(data, type(data))"
   ]
  },
  {
   "cell_type": "code",
   "execution_count": 143,
   "metadata": {},
   "outputs": [
    {
     "data": {
      "text/plain": [
       "tensor([11, 22, 33], dtype=torch.int32)"
      ]
     },
     "execution_count": 143,
     "metadata": {},
     "output_type": "execute_result"
    }
   ],
   "source": [
    "t1 = torch.from_numpy(data)\n",
    "t1"
   ]
  },
  {
   "cell_type": "code",
   "execution_count": 144,
   "metadata": {},
   "outputs": [
    {
     "data": {
      "text/plain": [
       "tensor([11, 22, 33], dtype=torch.int32)"
      ]
     },
     "execution_count": 144,
     "metadata": {},
     "output_type": "execute_result"
    }
   ],
   "source": [
    "t2 = torch.as_tensor(data)\n",
    "t2"
   ]
  },
  {
   "cell_type": "code",
   "execution_count": 145,
   "metadata": {},
   "outputs": [
    {
     "data": {
      "text/plain": [
       "tensor([11, 22, 33], dtype=torch.int32)"
      ]
     },
     "execution_count": 145,
     "metadata": {},
     "output_type": "execute_result"
    }
   ],
   "source": [
    "t3 = torch.tensor(data)\n",
    "t3"
   ]
  },
  {
   "cell_type": "code",
   "execution_count": 146,
   "metadata": {},
   "outputs": [],
   "source": [
    "# ndarray 원소 변경\n",
    "data[0] = 100"
   ]
  },
  {
   "cell_type": "code",
   "execution_count": 147,
   "metadata": {},
   "outputs": [
    {
     "name": "stdout",
     "output_type": "stream",
     "text": [
      "[100  22  33]\n",
      "tensor([100,  22,  33], dtype=torch.int32)\n",
      "tensor([100,  22,  33], dtype=torch.int32)\n",
      "tensor([11, 22, 33], dtype=torch.int32)\n"
     ]
    }
   ],
   "source": [
    "# from_numpy(), as_tensor() ==> 데이터 공유\n",
    "# tensor() => 복사본 생성\n",
    "print(data, t1, t2, t3, sep = '\\n')"
   ]
  },
  {
   "cell_type": "markdown",
   "metadata": {},
   "source": [
    "- 브로드캐스팅 연산"
   ]
  },
  {
   "cell_type": "code",
   "execution_count": 148,
   "metadata": {},
   "outputs": [
    {
     "name": "stdout",
     "output_type": "stream",
     "text": [
      "m1.shape => torch.Size([1, 2]), m2.shape => torch.Size([1])\n",
      "m3.shape => torch.Size([1, 2]))\n"
     ]
    },
    {
     "data": {
      "text/plain": [
       "tensor([[4., 5.]])"
      ]
     },
     "execution_count": 148,
     "metadata": {},
     "output_type": "execute_result"
    }
   ],
   "source": [
    "m1 = torch.FloatTensor([[1, 2]])\n",
    "m2 = torch.FloatTensor([3])\n",
    "print(f'm1.shape => {m1.shape}, m2.shape => {m2.shape}')\n",
    "\n",
    "m3 = m1 + m2\n",
    "print(f'm3.shape => {m3.shape})')\n",
    "m3\n"
   ]
  },
  {
   "cell_type": "code",
   "execution_count": 149,
   "metadata": {},
   "outputs": [
    {
     "name": "stdout",
     "output_type": "stream",
     "text": [
      "m1.shape => torch.Size([1, 2]), m2.shape => torch.Size([2, 1])\n",
      "m3.shape => torch.Size([2, 2])\n"
     ]
    },
    {
     "data": {
      "text/plain": [
       "tensor([[4., 5.],\n",
       "        [5., 6.]])"
      ]
     },
     "execution_count": 149,
     "metadata": {},
     "output_type": "execute_result"
    }
   ],
   "source": [
    "m1 = torch.FloatTensor([[1, 2]])\n",
    "m2 = torch.FloatTensor([[3], [4]])\n",
    "print(f'm1.shape => {m1.shape}, m2.shape => {m2.shape}')\n",
    "\n",
    "m3 = m1 + m2\n",
    "print(f'm3.shape => {m3.shape}')\n",
    "m3"
   ]
  },
  {
   "cell_type": "code",
   "execution_count": 150,
   "metadata": {},
   "outputs": [
    {
     "name": "stdout",
     "output_type": "stream",
     "text": [
      "m3.shape => torch.Size([2, 2])\n",
      "tensor([[3., 6.],\n",
      "        [4., 8.]])\n",
      "m4.shape => torch.Size([2, 2])\n",
      "tensor([[3., 6.],\n",
      "        [4., 8.]])\n"
     ]
    }
   ],
   "source": [
    "m3 = m1 * m2\n",
    "m4 = m1.mul(m2)\n",
    "print(f'm3.shape => {m3.shape}')\n",
    "print(m3)\n",
    "print(f'm4.shape => {m4.shape}')\n",
    "print(m4)"
   ]
  },
  {
   "cell_type": "code",
   "execution_count": 151,
   "metadata": {},
   "outputs": [
    {
     "data": {
      "text/plain": [
       "(tensor([[4., 5.],\n",
       "         [5., 6.]]),\n",
       " tensor([[-2., -1.],\n",
       "         [-3., -2.]]),\n",
       " tensor([[3., 6.],\n",
       "         [4., 8.]]),\n",
       " tensor([[0.3333, 0.6667],\n",
       "         [0.2500, 0.5000]]))"
      ]
     },
     "execution_count": 151,
     "metadata": {},
     "output_type": "execute_result"
    }
   ],
   "source": [
    "# 원소 단위 연산 수행 메서드\n",
    "m1.add(m2), m1.sub(m2), m1.mul(m2), m1.div(m2)"
   ]
  }
 ],
 "metadata": {
  "kernelspec": {
   "display_name": "Torch_PY38",
   "language": "python",
   "name": "python3"
  },
  "language_info": {
   "codemirror_mode": {
    "name": "ipython",
    "version": 3
   },
   "file_extension": ".py",
   "mimetype": "text/x-python",
   "name": "python",
   "nbconvert_exporter": "python",
   "pygments_lexer": "ipython3",
   "version": "3.8.18"
  }
 },
 "nbformat": 4,
 "nbformat_minor": 2
}
